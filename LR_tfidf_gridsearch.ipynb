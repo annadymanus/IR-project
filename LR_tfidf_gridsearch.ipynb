{
 "cells": [
  {
   "cell_type": "code",
   "execution_count": 1,
   "id": "1798289a-ff5b-49db-ada2-ab6590e39892",
   "metadata": {},
   "outputs": [],
   "source": [
    "import time\n",
    "import pickle\n",
    "import seaborn as sns\n",
    "import numpy as np\n",
    "\n",
    "from sklearn import metrics\n",
    "from sklearn.linear_model import LogisticRegression\n",
    "from sklearn.model_selection import GridSearchCV\n",
    "\n",
    "t = time.time()"
   ]
  },
  {
   "cell_type": "markdown",
   "id": "d228d7e4-49ff-426f-851b-db44b1970ea5",
   "metadata": {},
   "source": [
    "## Viewings"
   ]
  },
  {
   "cell_type": "code",
   "execution_count": 2,
   "id": "f7b4b029-55c5-46f4-84eb-b9607316452c",
   "metadata": {},
   "outputs": [],
   "source": [
    "def read_pickle(filename: str): \n",
    "    '''Read pickle to get the info'''\n",
    "    list_pickle =  pickle.load(open(filename,\"rb\"))\n",
    "    return list_pickle"
   ]
  },
  {
   "cell_type": "code",
   "execution_count": 3,
   "id": "576e9f99-f7ff-42d0-9826-afbef1167dee",
   "metadata": {},
   "outputs": [],
   "source": [
    "train_tf_idf = read_pickle('train_tf_idf.pickle')\n",
    "dev_tf_idf = read_pickle('dev_tf_idf.pickle')\n",
    "test_tf_idf = read_pickle('test_tf_idf.pickle')"
   ]
  },
  {
   "cell_type": "code",
   "execution_count": 4,
   "id": "fbe838cc-a93b-4e7e-8fcc-cd12ae418f66",
   "metadata": {},
   "outputs": [
    {
     "data": {
      "text/plain": [
       "('1185869',\n",
       " 'D3303349',\n",
       " array([ 2.07415911e-02, -7.17152986e-04, -6.31216485e-03, -4.27032683e-03,\n",
       "         4.35833326e-03, -9.08580645e-03, -3.50218277e-03,  1.26515626e-03,\n",
       "         3.15118922e-03, -4.90558052e-03, -4.04310867e-03, -2.63131736e-03,\n",
       "        -4.65671496e-04, -5.37873487e-03, -1.52014676e-03, -4.93933866e-03,\n",
       "        -3.14516417e-03, -6.12237960e-03, -1.15874512e-02, -5.01716299e-03,\n",
       "        -7.55584360e-03,  6.19215198e-03,  3.00399231e-03,  4.11817527e-03,\n",
       "        -3.48978365e-03, -7.15885971e-03, -4.07361311e-03, -3.92740627e-03,\n",
       "        -7.65330268e-04, -2.42828627e-03, -7.51175400e-03, -1.11919610e-02,\n",
       "        -3.19254599e-03,  3.66403577e-03,  5.58293151e-03, -4.00348838e-03,\n",
       "         1.55493098e-03, -9.62339232e-03, -2.19027107e-03,  7.37750700e-03,\n",
       "        -4.47294225e-03,  1.01759974e-02, -8.62996391e-03, -1.69250255e-03,\n",
       "         1.78469138e-03,  8.89994908e-04,  1.06963735e-02, -1.60244461e-03,\n",
       "        -1.10804385e-02, -2.61222613e-03, -2.44291330e-03, -2.76871005e-04,\n",
       "         1.13277033e-02, -1.06052323e-03,  9.77746172e-03,  3.62792699e-03,\n",
       "         1.08175649e-02, -2.09373863e-03, -2.11765204e-03, -1.00959654e-02,\n",
       "        -8.40432670e-04,  9.42491112e-03,  2.38503872e-03,  1.03838407e-02,\n",
       "         2.87518959e-03,  1.36700182e-02, -1.06026137e-02, -1.07243056e-02,\n",
       "        -4.65603688e-03,  1.49986062e-03, -2.07459102e-03, -3.02034723e-03,\n",
       "         5.81661895e-03, -6.52860880e-03,  1.21351168e-02, -5.01658745e-03,\n",
       "         1.15946042e-03, -7.55710085e-03, -3.61406372e-03, -1.10880699e-02,\n",
       "         6.15037676e-03, -5.68652945e-03,  3.46041688e-03, -2.39440683e-03,\n",
       "         2.20259707e-03,  3.31935401e-03, -4.71024611e-03, -5.43518996e-04,\n",
       "         3.05091471e-03,  1.86487882e-03,  3.53272838e-03,  7.79744787e-04,\n",
       "         1.52957534e-03,  1.37945387e-03,  7.26061643e-03,  9.13468437e-03,\n",
       "        -5.76195439e-05, -9.02776750e-03, -8.82243607e-03, -5.59828055e-03]),\n",
       " array([ 0.11029592, -0.00994913, -0.01428113,  0.10115498,  0.00884031,\n",
       "         0.05651494,  0.00721996,  0.0159871 ,  0.00640463, -0.02811726,\n",
       "         0.00174516, -0.03102205, -0.04366461,  0.00738295,  0.0071468 ,\n",
       "         0.01403417, -0.00117351, -0.01618608,  0.01213026, -0.00249522,\n",
       "         0.01344064,  0.00305688, -0.01378951,  0.02065193, -0.00886982,\n",
       "         0.01233733, -0.00661128, -0.00650346,  0.00452496,  0.0143404 ,\n",
       "         0.0069409 , -0.01339075, -0.01280866,  0.00714804,  0.00761324,\n",
       "         0.01236407,  0.00316754,  0.01013382, -0.02479787, -0.01037171,\n",
       "        -0.01191404,  0.01603949, -0.00607988, -0.01452167, -0.00521081,\n",
       "        -0.02002351, -0.00266483, -0.01825215, -0.01891407,  0.01726584,\n",
       "        -0.0064291 ,  0.00223454,  0.00987275,  0.00287475, -0.02325967,\n",
       "        -0.0144763 , -0.0166201 ,  0.03422964,  0.00867907, -0.0244252 ,\n",
       "        -0.02861769, -0.02588164, -0.0010259 ,  0.01238973, -0.01054476,\n",
       "        -0.02763999, -0.0196728 ,  0.0154666 , -0.01162932,  0.00324066,\n",
       "         0.00271098, -0.01668185,  0.04388277, -0.01240722,  0.02414635,\n",
       "         0.00788595,  0.00604052,  0.01511552, -0.04203014,  0.01963378,\n",
       "        -0.02764502,  0.00991403, -0.03008701, -0.01542579,  0.01120446,\n",
       "        -0.0103308 , -0.04071783,  0.01067489,  0.02659357,  0.02705309,\n",
       "        -0.00368542, -0.00495575, -0.02819119,  0.0032228 ,  0.01031664,\n",
       "        -0.03290066, -0.02291071, -0.0007548 , -0.00788126,  0.01434124]),\n",
       " array([False]))"
      ]
     },
     "execution_count": 4,
     "metadata": {},
     "output_type": "execute_result"
    }
   ],
   "source": [
    "train_tf_idf[0]"
   ]
  },
  {
   "cell_type": "code",
   "execution_count": 5,
   "id": "caa453db-6d08-4535-94f6-97c2f472ff30",
   "metadata": {},
   "outputs": [
    {
     "data": {
      "text/plain": [
       "(734026, 10386, 32516)"
      ]
     },
     "execution_count": 5,
     "metadata": {},
     "output_type": "execute_result"
    }
   ],
   "source": [
    "(len(train_tf_idf), len(dev_tf_idf), len(test_tf_idf))"
   ]
  },
  {
   "cell_type": "code",
   "execution_count": 6,
   "id": "a52ad6a0-0f64-489c-957d-d08da21a5dc8",
   "metadata": {},
   "outputs": [
    {
     "data": {
      "text/plain": [
       "(100, 100)"
      ]
     },
     "execution_count": 6,
     "metadata": {},
     "output_type": "execute_result"
    }
   ],
   "source": [
    "(len(test_tf_idf[0][2]), len(test_tf_idf[0][3]))"
   ]
  },
  {
   "cell_type": "code",
   "execution_count": 7,
   "id": "fc8e3f8b-7977-437d-918b-90b5e45ab5d9",
   "metadata": {},
   "outputs": [],
   "source": [
    "def bool_list(batch):\n",
    "    '''Input : train_tf_idf or dev_tf_idf or test_tf_idf\n",
    "    Output: list of integers corresponding to Y vector, 0 for False, 1 for True'''\n",
    "    list_bool = [list(elem[4]) for elem in batch]\n",
    "    preprocessed_list_bool = []\n",
    "    for boolean in list_bool:\n",
    "        if boolean == [False]:\n",
    "            preprocessed_list_bool.append(0)\n",
    "        elif boolean ==[1]:\n",
    "            preprocessed_list_bool.append(1)\n",
    "        else:\n",
    "            preprocessed_list_bool.append(int(boolean[0]))\n",
    "    return preprocessed_list_bool"
   ]
  },
  {
   "cell_type": "code",
   "execution_count": 8,
   "id": "ac21dafa-bc74-48a3-a1d7-65c3a6b17f2d",
   "metadata": {},
   "outputs": [
    {
     "data": {
      "text/plain": [
       "<AxesSubplot:ylabel='count'>"
      ]
     },
     "execution_count": 8,
     "metadata": {},
     "output_type": "execute_result"
    },
    {
     "data": {
      "image/png": "[encoded data removed]",
      "text/plain": [
       "<Figure size 432x288 with 1 Axes>"
      ]
     },
     "metadata": {
      "needs_background": "light"
     },
     "output_type": "display_data"
    }
   ],
   "source": [
    "sns.countplot(x=bool_list(train_tf_idf))"
   ]
  },
  {
   "cell_type": "code",
   "execution_count": 9,
   "id": "4300b6c8-a251-403d-81f8-b97b5006e6ed",
   "metadata": {},
   "outputs": [
    {
     "data": {
      "text/plain": [
       "<AxesSubplot:ylabel='count'>"
      ]
     },
     "execution_count": 9,
     "metadata": {},
     "output_type": "execute_result"
    },
    {
     "data": {
      "image/png": "[encoded data removed]",
      "text/plain": [
       "<Figure size 432x288 with 1 Axes>"
      ]
     },
     "metadata": {
      "needs_background": "light"
     },
     "output_type": "display_data"
    }
   ],
   "source": [
    "sns.countplot(x=bool_list(dev_tf_idf))"
   ]
  },
  {
   "cell_type": "code",
   "execution_count": 10,
   "id": "b780f4c3-7f86-4739-84b0-3c4865756712",
   "metadata": {},
   "outputs": [
    {
     "data": {
      "text/plain": [
       "<AxesSubplot:ylabel='count'>"
      ]
     },
     "execution_count": 10,
     "metadata": {},
     "output_type": "execute_result"
    },
    {
     "data": {
      "image/png": "[encoded data removed]",
      "text/plain": [
       "<Figure size 432x288 with 1 Axes>"
      ]
     },
     "metadata": {
      "needs_background": "light"
     },
     "output_type": "display_data"
    }
   ],
   "source": [
    "sns.countplot(x=bool_list(test_tf_idf))"
   ]
  },
  {
   "cell_type": "markdown",
   "id": "a563a89d-417a-42b7-b1f6-b4c4f125f3a2",
   "metadata": {},
   "source": [
    "There is some strange values in test_tf_idf (2 and 3) should I consider them as 1 ? I will assume that."
   ]
  },
  {
   "cell_type": "markdown",
   "id": "fff95e93-e6ab-4bc5-a1d0-60e4f978834e",
   "metadata": {},
   "source": [
    "## Modelisation"
   ]
  },
  {
   "cell_type": "code",
   "execution_count": 11,
   "id": "8a2d528e-ea0d-47c7-8e25-44ac53bd7cc4",
   "metadata": {},
   "outputs": [],
   "source": [
    "def get_X_vectors(batch):\n",
    "    '''Input : batch\n",
    "    Output : Array of vectors'''\n",
    "    X = []\n",
    "    for i in range(len(batch)):\n",
    "        X.append(np.concatenate((batch[i][2], batch[i][3])))\n",
    "    return np.array(X)       "
   ]
  },
  {
   "cell_type": "code",
   "execution_count": 12,
   "id": "c4212fa8-0964-4587-8d4c-7b945a913251",
   "metadata": {},
   "outputs": [
    {
     "data": {
      "text/plain": [
       "(734026, 200)"
      ]
     },
     "execution_count": 12,
     "metadata": {},
     "output_type": "execute_result"
    }
   ],
   "source": [
    "X_train = get_X_vectors(train_tf_idf)\n",
    "X_train.shape"
   ]
  },
  {
   "cell_type": "code",
   "execution_count": 13,
   "id": "93dfbd48-6974-4090-a2e4-7487fb205cbf",
   "metadata": {},
   "outputs": [
    {
     "data": {
      "text/plain": [
       "(32516, 200)"
      ]
     },
     "execution_count": 13,
     "metadata": {},
     "output_type": "execute_result"
    }
   ],
   "source": [
    "X_test = get_X_vectors(test_tf_idf)\n",
    "X_test.shape"
   ]
  },
  {
   "cell_type": "code",
   "execution_count": 14,
   "id": "5e9af7fa-159a-4ca4-8e36-184e9e5df482",
   "metadata": {},
   "outputs": [],
   "source": [
    "def get_y_vector(batch): \n",
    "    '''Input : batch\n",
    "    Output : array of integers (0 or 1)'''\n",
    "    list_bool = [list(elem[4]) for elem in batch]\n",
    "    preprocessed_list_bool = []\n",
    "    for boolean in list_bool:\n",
    "        if boolean == [False]:\n",
    "            preprocessed_list_bool.append(0)\n",
    "        else:\n",
    "            preprocessed_list_bool.append(1)\n",
    "    return np.array(preprocessed_list_bool)"
   ]
  },
  {
   "cell_type": "code",
   "execution_count": 15,
   "id": "0b2aba8b-07a5-4e3e-8346-56d75603594d",
   "metadata": {},
   "outputs": [
    {
     "data": {
      "text/plain": [
       "734026"
      ]
     },
     "execution_count": 15,
     "metadata": {},
     "output_type": "execute_result"
    }
   ],
   "source": [
    "y_train = get_y_vector(train_tf_idf)\n",
    "y_train.size"
   ]
  },
  {
   "cell_type": "code",
   "execution_count": 16,
   "id": "f30e2efe-6a75-4b13-baf9-5f0992ec999c",
   "metadata": {},
   "outputs": [
    {
     "data": {
      "text/plain": [
       "32516"
      ]
     },
     "execution_count": 16,
     "metadata": {},
     "output_type": "execute_result"
    }
   ],
   "source": [
    "y_test = get_y_vector(test_tf_idf)\n",
    "y_test.size"
   ]
  },
  {
   "cell_type": "code",
   "execution_count": 17,
   "id": "4c287b4c-5df9-4039-8264-e26db23fa9b6",
   "metadata": {},
   "outputs": [
    {
     "name": "stdout",
     "output_type": "stream",
     "text": [
      "Best Score: 0.5837796955098382\n",
      "Best Hyperparameters: {'C': 1.0, 'penalty': 'l1', 'solver': 'liblinear'}\n"
     ]
    }
   ],
   "source": [
    "import warnings\n",
    "warnings.filterwarnings('ignore')\n",
    "\n",
    "model = LogisticRegression()\n",
    "space = dict()\n",
    "space['C'] = np.logspace(-3,3,5)\n",
    "space['penalty'] = ['l1', 'l2']\n",
    "space['solver'] = ['newton-cg', 'lbfgs', 'liblinear']\n",
    "\n",
    "search = GridSearchCV(model, space, scoring='f1', n_jobs=3, cv=5)\n",
    "\n",
    "result = search.fit(X_train, y_train)\n",
    "print('Best Score: %s' % result.best_score_)\n",
    "print('Best Hyperparameters: %s' % result.best_params_)"
   ]
  },
  {
   "cell_type": "code",
   "execution_count": 18,
   "id": "25043dcc-ae08-4f99-be06-86c3cb412eb2",
   "metadata": {},
   "outputs": [
    {
     "name": "stdout",
     "output_type": "stream",
     "text": [
      "F1-score: 0.5250551152952392\n"
     ]
    }
   ],
   "source": [
    "logreg = LogisticRegression(penalty='l1', C=1.0, solver='liblinear')\n",
    "logreg.fit(X_train, y_train)\n",
    "y_pred = logreg.predict(X_test)\n",
    "\n",
    "print(\"F1-score:\",metrics.f1_score(y_test, y_pred))"
   ]
  },
  {
   "cell_type": "code",
   "execution_count": 21,
   "id": "8e6e52d5-a33b-4af1-859c-5110681c6179",
   "metadata": {},
   "outputs": [
    {
     "data": {
      "text/plain": [
       "array([[0.54109618, 0.45890382],\n",
       "       [0.29357027, 0.70642973],\n",
       "       [0.48780036, 0.51219964],\n",
       "       ...,\n",
       "       [0.41790516, 0.58209484],\n",
       "       [0.64916564, 0.35083436],\n",
       "       [0.46112275, 0.53887725]])"
      ]
     },
     "execution_count": 21,
     "metadata": {},
     "output_type": "execute_result"
    }
   ],
   "source": [
    "y_pred_scores = logreg.predict_proba(X_test)\n",
    "y_pred_scores"
   ]
  },
  {
   "cell_type": "code",
   "execution_count": 27,
   "id": "86672955-177f-45ab-a73a-413d88eff9f5",
   "metadata": {},
   "outputs": [],
   "source": [
    "# Creating a pickle of results\n",
    "def LR_results(batch, y_pred_scores):\n",
    "    if len(batch)!=len(y_pred_scores):\n",
    "        raise ValueError('Array are not of the same size')\n",
    "        \n",
    "    LR_results = [(batch[i][0], batch[i][1], y_pred_scores[i, 0]) for i in range(len(batch))]\n",
    "    return LR_results  "
   ]
  },
  {
   "cell_type": "code",
   "execution_count": 28,
   "id": "6def401f-f4b9-4e14-835e-704389d602b9",
   "metadata": {},
   "outputs": [
    {
     "data": {
      "text/plain": [
       "[('156493', 'D1029136', 0.5410961845086448),\n",
       " ('156493', 'D399176', 0.29357026500458183),\n",
       " ('156493', 'D2688238', 0.4878003618427419),\n",
       " ('156493', 'D2079064', 0.4462382832838292),\n",
       " ('156493', 'D3425535', 0.3401004284973864)]"
      ]
     },
     "execution_count": 28,
     "metadata": {},
     "output_type": "execute_result"
    }
   ],
   "source": [
    "results = LR_results(test_tf_idf, y_pred_scores)\n",
    "results[0:5]"
   ]
  },
  {
   "cell_type": "code",
   "execution_count": 29,
   "id": "00b48586-75cc-490b-82a1-63ee2571f878",
   "metadata": {},
   "outputs": [],
   "source": [
    "outfile = open('LR_results.pickle', 'wb')\n",
    "pickle.dump(results, outfile)\n",
    "outfile.close()"
   ]
  },
  {
   "cell_type": "code",
   "execution_count": 19,
   "id": "35b23eea-680c-44ba-8bac-17bb48ce1e53",
   "metadata": {},
   "outputs": [
    {
     "name": "stdout",
     "output_type": "stream",
     "text": [
      "Execution time : 00:28:13\n"
     ]
    }
   ],
   "source": [
    "print(f\"Execution time : {time.strftime('%H:%M:%S', time.gmtime(time.time()-t))}\")"
   ]
  }
 ],
 "metadata": {
  "kernelspec": {
   "display_name": "Python 3 (ipykernel)",
   "language": "python",
   "name": "python3"
  },
  "language_info": {
   "codemirror_mode": {
    "name": "ipython",
    "version": 3
   },
   "file_extension": ".py",
   "mimetype": "text/x-python",
   "name": "python",
   "nbconvert_exporter": "python",
   "pygments_lexer": "ipython3",
   "version": "3.8.13"
  }
 },
 "nbformat": 4,
 "nbformat_minor": 5
}
