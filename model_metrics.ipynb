{
  "cells": [
    {
      "cell_type": "markdown",
      "metadata": {
        "id": "view-in-github",
        "colab_type": "text"
      },
      "source": [
        "<a href=\"https://colab.research.google.com/github/annadymanus/IR-project/blob/main/model_metrics.ipynb\" target=\"_parent\"><img src=\"https://colab.research.google.com/assets/colab-badge.svg\" alt=\"Open In Colab\"/></a>"
      ]
    },
    {
      "cell_type": "markdown",
      "source": [
        "# Evaluation of Models\n",
        "\n",
        "Metrics:\n",
        "- Mean Reciprocal Rank at k\n",
        "- (normalized) Discounted Cumulative Gain\n",
        "- Pairwise Accuracy"
      ],
      "metadata": {
        "id": "dF2bCt_ZQ1YD"
      }
    },
    {
      "cell_type": "markdown",
      "source": [
        "## 1. Import libs and read files"
      ],
      "metadata": {
        "id": "DLfZhQYVQE9R"
      }
    },
    {
      "cell_type": "code",
      "execution_count": 2,
      "metadata": {
        "colab": {
          "base_uri": "https://localhost:8080/"
        },
        "id": "5LF2F4ae1e0t",
        "outputId": "82e94b37-9866-411a-bffd-dca0121a61ff"
      },
      "outputs": [
        {
          "output_type": "stream",
          "name": "stdout",
          "text": [
            "Drive already mounted at /content/drive; to attempt to forcibly remount, call drive.mount(\"/content/drive\", force_remount=True).\n"
          ]
        }
      ],
      "source": [
        "from google.colab import drive\n",
        "drive.mount('/content/drive')"
      ]
    },
    {
      "cell_type": "code",
      "execution_count": 22,
      "metadata": {
        "colab": {
          "base_uri": "https://localhost:8080/"
        },
        "id": "Y_LLOUQ1qHr5",
        "outputId": "1e8d3214-89cf-4a48-ecb5-49c02e18b5ea"
      },
      "outputs": [
        {
          "output_type": "stream",
          "name": "stdout",
          "text": [
            "Looking in indexes: https://pypi.org/simple, https://us-python.pkg.dev/colab-wheels/public/simple/\n",
            "Requirement already satisfied: pickle5 in /usr/local/lib/python3.7/dist-packages (0.0.12)\n"
          ]
        }
      ],
      "source": [
        "!pip install pickle5\n",
        "import pickle5 as pickle\n",
        "import pandas as pd \n",
        "\n",
        "\n",
        "gold_standard_path = '/content/drive/Shareddrives/IRProject/validation/2019qrels-docs.txt'\n",
        "\n",
        "gold_standard = pd.read_csv(\n",
        "    gold_standard_path, \n",
        "    sep=' ', \n",
        "    names=[\n",
        "        'queryid', \n",
        "        'Q0', \n",
        "        'docid', \n",
        "        'rating',\n",
        "    ],\n",
        ")\n",
        "\n",
        "models_base_path = '/content/drive/Shareddrives/IRProject/model_predictions'\n",
        "\n",
        "def format_model_predictions(raw_model_predictions):\n",
        "    formatted_results = {}\n",
        "    for queryid in raw_model_predictions.keys():\n",
        "        formatted_results[queryid] = []\n",
        "        for docid in raw_model_predictions[queryid].keys():\n",
        "            score = raw_model_predictions[queryid][docid][0][0]\n",
        "            formatted_results[queryid].append((docid, score))\n",
        "\n",
        "    return formatted_results\n",
        "\n",
        "# Baseline\n",
        "with open(f'{models_base_path}/cosine_similarity.pickle', 'rb') as file:\n",
        "    model_cosine_similarity_raw = pickle.load(file)\n",
        "    model_cosine_similarity = format_model_predictions(model_cosine_similarity_raw)\n",
        "\n",
        "# Pointwise\n",
        "with open(f'{models_base_path}/tf_idf_pointwise_preds.pickle', 'rb') as file:\n",
        "    model_tf_idf = pickle.load(file)\n",
        "\n",
        "with open(f'{models_base_path}/tf_idf_pointwise_scoring_preds.pickle', 'rb') as file:\n",
        "    model_tf_idf_scoring = pickle.load(file)\n",
        "\n",
        "with open(f'{models_base_path}/bart_tokenized_pointwise_preds.pickle', 'rb') as file:\n",
        "    model_bart_tokenized = pickle.load(file)\n",
        "\n",
        "with open(f'{models_base_path}/bart_tokenized_word_pointwise_preds.pickle', 'rb') as file:\n",
        "    model_bart_tokenized_word = pickle.load(file)\n",
        "\n",
        "with open(f'{models_base_path}/bart_tokenized_pointwise_scoring_preds.pickle', 'rb') as file:\n",
        "    model_bart_tokenized_scoring = pickle.load(file)\n",
        "\n",
        "with open(f'{models_base_path}/bart_tokenized_pointwise_word_scoring_preds.pickle', 'rb') as file:\n",
        "    model_bart_tokenized_word_scoring = pickle.load(file)\n",
        "\n",
        "with open(f'{models_base_path}/non_cont_word_emb_pointwise_preds.pickle', 'rb') as file:\n",
        "    model_non_cont_word_emb = pickle.load(file)\n",
        "\n",
        "with open(f'{models_base_path}/non_cont_word_emb_pointwise_scoring_preds.pickle', 'rb') as file:\n",
        "    model_non_cont_word_emb_scoring = pickle.load(file)\n",
        "\n",
        "# Pairwise\n",
        "with open(f'{models_base_path}/tf_idf_pairwise_preds.pickle', 'rb') as file:\n",
        "    model_tf_idf_pairwise = pickle.load(file)\n",
        "\n",
        "with open(f'{models_base_path}/bart_tokenized_pairwise_preds.pickle', 'rb') as file:\n",
        "    model_bart_tokenized_pairwise = pickle.load(file)\n",
        "\n",
        "with open(f'{models_base_path}/non_cont_word_emb_pairwise_preds.pickle', 'rb') as file:\n",
        "    model_non_cont_word_emb_pairwise = pickle.load(file)"
      ]
    },
    {
      "cell_type": "markdown",
      "source": [
        "## 2. Evaluation functions"
      ],
      "metadata": {
        "id": "SwW5s0fdQLbk"
      }
    },
    {
      "cell_type": "code",
      "execution_count": 4,
      "metadata": {
        "colab": {
          "base_uri": "https://localhost:8080/"
        },
        "id": "oduGupt4m8KE",
        "outputId": "31235d03-26e6-4847-f1fc-cef7a9eec580"
      },
      "outputs": [
        {
          "output_type": "execute_result",
          "data": {
            "text/plain": [
              "['D3356946',\n",
              " 'D685712',\n",
              " 'D841097',\n",
              " 'D2186075',\n",
              " 'D3523176',\n",
              " 'D1870970',\n",
              " 'D1146968',\n",
              " 'D683584',\n",
              " 'D1407122']"
            ]
          },
          "metadata": {},
          "execution_count": 4
        }
      ],
      "source": [
        "def rank_k_documents(query_results, k=None):\n",
        "    \"\"\"\n",
        "    Rank the results of a query based on its descending model score, \n",
        "    remove duplicates, and (optionally) cut at max length k.\n",
        "\n",
        "    Args:\n",
        "        query_results (list): List of tuples (docid, score) for a \n",
        "            certain queryid.\n",
        "        k (int): optional cutpoint of the results, where metrics should \n",
        "            be evaluated.\n",
        "    \n",
        "    Returns:\n",
        "        list[str]: ranked list of docids, with max length k (if defined).\n",
        "    \"\"\"\n",
        "    ranked_results = sorted(query_results, key=lambda tup: tup[1], reverse=True)\n",
        "    ranked_docids = [result[0] for result in ranked_results]\n",
        "    ranked_docids = list(dict.fromkeys(ranked_docids))  # remove duplicates\n",
        "\n",
        "    if isinstance(k, int):\n",
        "        if len(ranked_docids) > k:\n",
        "            ranked_docids = ranked_docids[0:k-1]\n",
        "\n",
        "    return ranked_docids\n",
        "\n",
        "# Example: top 10 documents for query 156493\n",
        "rank_k_documents(model_tf_idf['156493'], 10)"
      ]
    },
    {
      "cell_type": "code",
      "execution_count": 5,
      "metadata": {
        "colab": {
          "base_uri": "https://localhost:8080/"
        },
        "id": "Y1vRREb7rswb",
        "outputId": "57abc839-9208-4edb-c8bb-56b8b24d0df3"
      },
      "outputs": [
        {
          "output_type": "execute_result",
          "data": {
            "text/plain": [
              "1"
            ]
          },
          "metadata": {},
          "execution_count": 5
        }
      ],
      "source": [
        "def get_rating_queryid_docid(queryid, docid: str, gold_standard):\n",
        "    \"\"\"\n",
        "    Search for the gold standard rating given for a specific pair of \n",
        "    `queryid` and `docid`.\n",
        "\n",
        "    Args:\n",
        "        queryid: ID of the query, in either string or integer format.\n",
        "        docid (str): string with the ID of the document.\n",
        "        gold_standard (pandas.DataFrame): DataFrame with true relevant docids\n",
        "            for each query.\n",
        "    \n",
        "    Returns:\n",
        "        int: Pair's rating (0-3).\n",
        "    \"\"\"\n",
        "    rating = gold_standard[\n",
        "        (gold_standard['queryid']==int(queryid))\n",
        "        & (gold_standard['docid']==str(docid))\n",
        "    ]['rating'].values[0]\n",
        "\n",
        "    return rating if rating > 0 else 0\n",
        "\n",
        "# Example: Rating of (queryid=156493, docid=D685712)\n",
        "get_rating_queryid_docid(156493, 'D685712', gold_standard)"
      ]
    },
    {
      "cell_type": "code",
      "execution_count": 6,
      "metadata": {
        "colab": {
          "base_uri": "https://localhost:8080/"
        },
        "id": "6OAjID3avZL7",
        "outputId": "f47fa193-f8ef-4722-d090-c5c78c0215d4"
      },
      "outputs": [
        {
          "output_type": "execute_result",
          "data": {
            "text/plain": [
              "[0, 1, 0, 1, 0, 1, 0, 2, 0]"
            ]
          },
          "metadata": {},
          "execution_count": 6
        }
      ],
      "source": [
        "def get_list_of_relevances(queryid, model_predictions, gold_standard, k=None):\n",
        "    \"\"\"\n",
        "    Rank the results of a `queryid` and replace `docids` by their relevance \n",
        "    rating for the query.\n",
        "\n",
        "    Args:\n",
        "        queryid: ID of the query, in either string or integer format.\n",
        "        model_predictions (dict): Dict of queryids and their lists of \n",
        "            documents retrieved by the model. Each key should by the queryid \n",
        "            in string format, and its value should be a list of tuples \n",
        "            (docid, score), not necessarily ordered.\n",
        "        gold_standard (pandas.DataFrame): DataFrame with true relevant docids\n",
        "            for each query.\n",
        "        k (int): optional cutpoint of the results, where metrics should \n",
        "            be evaluated.\n",
        "    \n",
        "    Returns:\n",
        "        list[int]: list of documents' ratings for the query, ordered by \n",
        "            the relevance score given by the model.\n",
        "    \"\"\"\n",
        "    list_of_relevances = []\n",
        "    for docid in rank_k_documents(model_predictions[str(queryid)], k):\n",
        "        list_of_relevances.append(\n",
        "            get_rating_queryid_docid(queryid, docid, gold_standard)\n",
        "        )\n",
        "\n",
        "    return list_of_relevances\n",
        "\n",
        "# Example: actual relevance of each of the first 10 results for queryid 156493\n",
        "get_list_of_relevances(156493, model_tf_idf, gold_standard, 10)"
      ]
    },
    {
      "cell_type": "code",
      "execution_count": 7,
      "metadata": {
        "colab": {
          "base_uri": "https://localhost:8080/"
        },
        "id": "0GoWiatdw--L",
        "outputId": "fe3c27bd-c496-4dd3-fab2-07ff4cf8dc3d"
      },
      "outputs": [
        {
          "output_type": "stream",
          "name": "stdout",
          "text": [
            "0.5\n",
            "0.125\n"
          ]
        }
      ],
      "source": [
        "def get_reciprocal_rank(list_of_relevances, relevance_threshold=1):\n",
        "    \"\"\"\n",
        "    Get inverse of the position (reciprocal rank) of the first relevant \n",
        "    document in the `list_of_relevances`, based on a relevance threshold.\n",
        "\n",
        "    Args:\n",
        "        list_of_relevances (list[int]): list of documents' ratings for \n",
        "            the query, ordered by the relevance score given by the model.\n",
        "        relevance_threshold (int): Miminum rating considered relevant.\n",
        "    \n",
        "    Returns:\n",
        "        float: Reciprocal rank of the list.\n",
        "    \"\"\"\n",
        "    reciprocal_rank = 0.0\n",
        "    for position, relevance in enumerate(list_of_relevances):\n",
        "        if relevance >= relevance_threshold:\n",
        "            reciprocal_rank = 1/(position+1.0)\n",
        "            break\n",
        "\n",
        "    return reciprocal_rank\n",
        "\n",
        "# Example 1: RR for queryid 156493, with relevance threshold = 1:\n",
        "print(get_reciprocal_rank(\n",
        "    get_list_of_relevances(\n",
        "        156493, \n",
        "        model_tf_idf, \n",
        "        gold_standard, \n",
        "        10,\n",
        "    ),\n",
        "    1,\n",
        "))\n",
        "# Example 1: RR for the same query, but with relevance threshold = 2:\n",
        "print(get_reciprocal_rank(\n",
        "    get_list_of_relevances(\n",
        "        156493, \n",
        "        model_tf_idf, \n",
        "        gold_standard, \n",
        "        10,\n",
        "    ), \n",
        "    2,\n",
        "))"
      ]
    },
    {
      "cell_type": "code",
      "execution_count": 8,
      "metadata": {
        "colab": {
          "base_uri": "https://localhost:8080/"
        },
        "id": "EIT7MOrT99Rc",
        "outputId": "a3014efb-88f9-43e2-ac7f-627851fa8613"
      },
      "outputs": [
        {
          "output_type": "execute_result",
          "data": {
            "text/plain": [
              "0.6332525654008375"
            ]
          },
          "metadata": {},
          "execution_count": 8
        }
      ],
      "source": [
        "import math\n",
        "\n",
        "def calculate_dcg(list_of_relevances:list):\n",
        "    \"\"\"\n",
        "    Calculate Discounted Cumulative Gain for a given list of relevances.\n",
        "\n",
        "    Args:\n",
        "        list_of_relevances (list[int]): list of documents' ratings for \n",
        "            the query, ordered by the relevance score given by the model.\n",
        "    \n",
        "    Returns:\n",
        "        float: Discounted Cumulative Gain of the list.\n",
        "    \"\"\"\n",
        "    if isinstance(list_of_relevances, list):\n",
        "        if len(list_of_relevances)==0:\n",
        "            return 0\n",
        "        \n",
        "        else:\n",
        "            dcg = []\n",
        "            for position, relevance in enumerate(list_of_relevances):\n",
        "                dcg.append(relevance / math.log2(position+2))\n",
        "        return sum(dcg)\n",
        "\n",
        "def get_ideal_dcg(queryid, gold_standard):\n",
        "    \"\"\"\n",
        "    Calculate Ideal (Maximal) Discounted Cumulative Gain for a `queryid`, given \n",
        "    the gold standard ratings.\n",
        "\n",
        "    Args:\n",
        "        queryid: ID of the query, in either string or integer format.\n",
        "        gold_standard (pandas.DataFrame): DataFrame with true relevant docids\n",
        "            for each query.\n",
        "    \n",
        "    Returns:\n",
        "        float: Discounted Cumulative Gain of the list.\n",
        "    \"\"\"\n",
        "    ideal_list_of_relevances = gold_standard[\n",
        "        gold_standard['queryid']==int(queryid)\n",
        "    ].sort_values(\n",
        "        by='rating', \n",
        "        ascending=False,\n",
        "    )['rating'].tolist()\n",
        "\n",
        "    return calculate_dcg(ideal_list_of_relevances)\n",
        "\n",
        "# Example: DCG of an imperfect list of ratings divided by ideal DCG of same list\n",
        "calculate_dcg([0, 2, 4, 0, 1]) / calculate_dcg([4, 2, 1, 0, 0])"
      ]
    },
    {
      "cell_type": "code",
      "source": [
        "def get_pairwise_accuracy(list_of_relevances:list):\n",
        "    \"\"\"\n",
        "    Calculate pairwise accuracy of a given list of relevances.\n",
        "\n",
        "    Args:\n",
        "        list_of_relevances (list[int]): list of documents' ratings for \n",
        "            the query, ordered by the relevance score given by the model.\n",
        "    \n",
        "    Returns:\n",
        "        float: pairwise accuracy of the list.\n",
        "    \"\"\"\n",
        "    hits_list = []\n",
        "    miss_list = []\n",
        "    for position, relevance in enumerate(list_of_relevances):\n",
        "        hits = len([1 for result in list_of_relevances[position:] if relevance > result])\n",
        "        miss = len([1 for result in list_of_relevances[position:] if relevance < result])\n",
        "        hits_list.append(hits)\n",
        "        miss_list.append(miss)\n",
        "\n",
        "    overall_hits = sum(hits_list)\n",
        "    overall_miss = sum(miss_list)\n",
        "\n",
        "    return overall_hits / (overall_hits + overall_miss)\n",
        "\n",
        "get_pairwise_accuracy([0, 2, 4, 0, 1])"
      ],
      "metadata": {
        "colab": {
          "base_uri": "https://localhost:8080/"
        },
        "id": "dTEoeUyJsZYT",
        "outputId": "271ed329-b32a-49cf-d307-642891c5366a"
      },
      "execution_count": 9,
      "outputs": [
        {
          "output_type": "execute_result",
          "data": {
            "text/plain": [
              "0.4444444444444444"
            ]
          },
          "metadata": {},
          "execution_count": 9
        }
      ]
    },
    {
      "cell_type": "code",
      "execution_count": 10,
      "metadata": {
        "colab": {
          "base_uri": "https://localhost:8080/"
        },
        "id": "eWiC7jIknDjZ",
        "outputId": "d00c763a-d7d1-4da8-e7d5-a2c264252ce8"
      },
      "outputs": [
        {
          "output_type": "execute_result",
          "data": {
            "text/plain": [
              "(0.125, 30.248643661123698, 0.7263431232004279, 0.5902015487706307)"
            ]
          },
          "metadata": {},
          "execution_count": 10
        }
      ],
      "source": [
        "def get_query_dcg_rr_at_k(\n",
        "        queryid, \n",
        "        model_predictions, \n",
        "        gold_standard, \n",
        "        k=10,\n",
        "        relevance_threshold=2\n",
        "    ):\n",
        "    \"\"\"\n",
        "    Calculate Reciprocal Rank at k, DCG, nDCG and pairwise accuracy for a \n",
        "    certain queryid, by comparing its results with gold_standard.\n",
        "\n",
        "    Args:\n",
        "        queryid: Query ID to be evaluated.\n",
        "        model_predictions (dict): Dict of queryids and their lists of \n",
        "            documents retrieved by the model. Each key should by the queryid \n",
        "            in string format, and its value should be a list of tuples \n",
        "            (docid, score), not necessarily ordered.\n",
        "        gold_standard (pandas.DataFrame): DataFrame with true relevant docids\n",
        "            for each query.\n",
        "        k (int): cutpoint of the results, where Reciprocal Rank should be \n",
        "            evaluated. Defaults to 10.\n",
        "        relevance_threshold (int): Miminum rating considered relevant for \n",
        "            Reciprocal Rank. Defaults to 2.\n",
        "    \n",
        "    Returns:\n",
        "        tuple[float, float, float, float]: Tuple (reciprocal rank at k, \n",
        "            DCG, nDCG, pairwise accuracy) for the given queryid.\n",
        "    \"\"\"\n",
        "    \n",
        "    # RR\n",
        "    list_of_k_relevances = get_list_of_relevances(\n",
        "        queryid, \n",
        "        model_predictions, \n",
        "        gold_standard, \n",
        "        k\n",
        "    )\n",
        "    rr = get_reciprocal_rank(\n",
        "        list_of_k_relevances, \n",
        "        relevance_threshold\n",
        "    )\n",
        "\n",
        "    # nDCG\n",
        "    list_of_relevances = get_list_of_relevances(\n",
        "        queryid, \n",
        "        model_predictions, \n",
        "        gold_standard, \n",
        "    )\n",
        "    dcg = calculate_dcg(list_of_relevances)\n",
        "    idcg = get_ideal_dcg(queryid, gold_standard)\n",
        "    ndcg = dcg / idcg if idcg > 0 else 0\n",
        "\n",
        "    # Pairwise Accuracy\n",
        "    pairwise_acc = get_pairwise_accuracy(list_of_relevances)\n",
        "\n",
        "    return rr, dcg, ndcg, pairwise_acc\n",
        "\n",
        "# Example: metrics for query 156493, with default k and relevance threshold\n",
        "get_query_dcg_rr_at_k(156493, model_tf_idf, gold_standard)"
      ]
    },
    {
      "cell_type": "code",
      "execution_count": 11,
      "metadata": {
        "colab": {
          "base_uri": "https://localhost:8080/",
          "height": 1000
        },
        "id": "w-GbBr4jrvq1",
        "outputId": "56ebd8e7-2358-44bb-fc95-a6f1b78ba890"
      },
      "outputs": [
        {
          "output_type": "execute_result",
          "data": {
            "text/plain": [
              "    queryid  MRR_at_10         DCG      nDCG  pairwise_acc\n",
              "0    156493   0.125000   30.248644  0.726343      0.590202\n",
              "1   1110199   0.250000   14.667529  0.705990      0.748724\n",
              "2   1063750   0.000000   69.527123  0.757474      0.502124\n",
              "3    130510   1.000000   14.809537  0.694416      0.550410\n",
              "4    489204   0.166667   59.081328  0.825832      0.531118\n",
              "5    573724   1.000000   13.979401  0.764868      0.691674\n",
              "6   1133167   0.250000   50.892870  0.788757      0.628537\n",
              "7    527433   0.000000   13.937007  0.599917      0.565527\n",
              "8   1037798   0.000000    7.344312  0.477287      0.401600\n",
              "9    915593   0.142857   35.677808  0.681891      0.501350\n",
              "10   264014   0.250000   38.124259  0.796583      0.685607\n",
              "11  1121402   0.200000   10.460371  0.603659      0.509655\n",
              "12   962179   0.500000   16.907334  0.753283      0.850000\n",
              "13  1117099   0.000000   71.787055  0.729668      0.523784\n",
              "14   148538   1.000000   50.891581  0.816604      0.611028\n",
              "15   451602   0.166667   36.466187  0.758469      0.576398\n",
              "16   359349   0.000000   35.051222  0.699515      0.561204\n",
              "17  1115776   0.000000    3.563790  0.378847      0.731525\n",
              "18  1112341   0.500000   80.571708  0.776472      0.491160\n",
              "19   131843   1.000000    6.978497  0.652600      0.561902\n",
              "20   104861   1.000000   21.898915  0.789465      0.771705\n",
              "21   833860   0.000000   32.368450  0.679608      0.552192\n",
              "22   207786   0.333333   28.929556  0.731760      0.648421\n",
              "23  1132213   0.200000    6.273388  0.552968      0.796498\n",
              "24  1114819   0.500000  111.936622  0.848162      0.570110\n",
              "25   183378   0.333333  106.484969  0.802057      0.516205\n",
              "26  1106007   0.166667   40.626687  0.792354      0.510219\n",
              "27  1124210   0.000000   40.820986  0.732067      0.401061\n",
              "28   287683   0.000000    1.470300  0.308766      0.875887\n",
              "29   490595   0.000000   15.296609  0.612391      0.595367\n",
              "30  1103812   0.000000    7.848823  0.489191      0.583697\n",
              "31    87181   0.250000   30.125581  0.708003      0.573965\n",
              "32   443396   0.000000   38.637744  0.738504      0.644920\n",
              "33    87452   0.142857   38.446335  0.716453      0.558402\n",
              "34   855410   0.000000    1.389140  0.223683      0.663265\n",
              "35  1114646   0.000000   11.705312  0.675503      0.550350\n",
              "36    19335   0.500000   14.095171  0.656729      0.523351\n",
              "37    47923   0.333333  108.352026  0.811238      0.504014\n",
              "38   405717   0.000000    6.779002  0.619011      0.718184\n",
              "39   182539   0.166667    6.914697  0.546308      0.511340\n",
              "40  1113437   0.000000   18.886840  0.570693      0.455552\n",
              "41  1129237   0.000000    9.237446  0.507315      0.541281\n",
              "42   146187   0.250000    7.946028  0.589155      0.607350"
            ],
            "text/html": [
              "\n",
              "  <div id=\"df-e6a26bd1-6218-4da1-be5f-7a22a00b28bb\">\n",
              "    <div class=\"colab-df-container\">\n",
              "      <div>\n",
              "<style scoped>\n",
              "    .dataframe tbody tr th:only-of-type {\n",
              "        vertical-align: middle;\n",
              "    }\n",
              "\n",
              "    .dataframe tbody tr th {\n",
              "        vertical-align: top;\n",
              "    }\n",
              "\n",
              "    .dataframe thead th {\n",
              "        text-align: right;\n",
              "    }\n",
              "</style>\n",
              "<table border=\"1\" class=\"dataframe\">\n",
              "  <thead>\n",
              "    <tr style=\"text-align: right;\">\n",
              "      <th></th>\n",
              "      <th>queryid</th>\n",
              "      <th>MRR_at_10</th>\n",
              "      <th>DCG</th>\n",
              "      <th>nDCG</th>\n",
              "      <th>pairwise_acc</th>\n",
              "    </tr>\n",
              "  </thead>\n",
              "  <tbody>\n",
              "    <tr>\n",
              "      <th>0</th>\n",
              "      <td>156493</td>\n",
              "      <td>0.125000</td>\n",
              "      <td>30.248644</td>\n",
              "      <td>0.726343</td>\n",
              "      <td>0.590202</td>\n",
              "    </tr>\n",
              "    <tr>\n",
              "      <th>1</th>\n",
              "      <td>1110199</td>\n",
              "      <td>0.250000</td>\n",
              "      <td>14.667529</td>\n",
              "      <td>0.705990</td>\n",
              "      <td>0.748724</td>\n",
              "    </tr>\n",
              "    <tr>\n",
              "      <th>2</th>\n",
              "      <td>1063750</td>\n",
              "      <td>0.000000</td>\n",
              "      <td>69.527123</td>\n",
              "      <td>0.757474</td>\n",
              "      <td>0.502124</td>\n",
              "    </tr>\n",
              "    <tr>\n",
              "      <th>3</th>\n",
              "      <td>130510</td>\n",
              "      <td>1.000000</td>\n",
              "      <td>14.809537</td>\n",
              "      <td>0.694416</td>\n",
              "      <td>0.550410</td>\n",
              "    </tr>\n",
              "    <tr>\n",
              "      <th>4</th>\n",
              "      <td>489204</td>\n",
              "      <td>0.166667</td>\n",
              "      <td>59.081328</td>\n",
              "      <td>0.825832</td>\n",
              "      <td>0.531118</td>\n",
              "    </tr>\n",
              "    <tr>\n",
              "      <th>5</th>\n",
              "      <td>573724</td>\n",
              "      <td>1.000000</td>\n",
              "      <td>13.979401</td>\n",
              "      <td>0.764868</td>\n",
              "      <td>0.691674</td>\n",
              "    </tr>\n",
              "    <tr>\n",
              "      <th>6</th>\n",
              "      <td>1133167</td>\n",
              "      <td>0.250000</td>\n",
              "      <td>50.892870</td>\n",
              "      <td>0.788757</td>\n",
              "      <td>0.628537</td>\n",
              "    </tr>\n",
              "    <tr>\n",
              "      <th>7</th>\n",
              "      <td>527433</td>\n",
              "      <td>0.000000</td>\n",
              "      <td>13.937007</td>\n",
              "      <td>0.599917</td>\n",
              "      <td>0.565527</td>\n",
              "    </tr>\n",
              "    <tr>\n",
              "      <th>8</th>\n",
              "      <td>1037798</td>\n",
              "      <td>0.000000</td>\n",
              "      <td>7.344312</td>\n",
              "      <td>0.477287</td>\n",
              "      <td>0.401600</td>\n",
              "    </tr>\n",
              "    <tr>\n",
              "      <th>9</th>\n",
              "      <td>915593</td>\n",
              "      <td>0.142857</td>\n",
              "      <td>35.677808</td>\n",
              "      <td>0.681891</td>\n",
              "      <td>0.501350</td>\n",
              "    </tr>\n",
              "    <tr>\n",
              "      <th>10</th>\n",
              "      <td>264014</td>\n",
              "      <td>0.250000</td>\n",
              "      <td>38.124259</td>\n",
              "      <td>0.796583</td>\n",
              "      <td>0.685607</td>\n",
              "    </tr>\n",
              "    <tr>\n",
              "      <th>11</th>\n",
              "      <td>1121402</td>\n",
              "      <td>0.200000</td>\n",
              "      <td>10.460371</td>\n",
              "      <td>0.603659</td>\n",
              "      <td>0.509655</td>\n",
              "    </tr>\n",
              "    <tr>\n",
              "      <th>12</th>\n",
              "      <td>962179</td>\n",
              "      <td>0.500000</td>\n",
              "      <td>16.907334</td>\n",
              "      <td>0.753283</td>\n",
              "      <td>0.850000</td>\n",
              "    </tr>\n",
              "    <tr>\n",
              "      <th>13</th>\n",
              "      <td>1117099</td>\n",
              "      <td>0.000000</td>\n",
              "      <td>71.787055</td>\n",
              "      <td>0.729668</td>\n",
              "      <td>0.523784</td>\n",
              "    </tr>\n",
              "    <tr>\n",
              "      <th>14</th>\n",
              "      <td>148538</td>\n",
              "      <td>1.000000</td>\n",
              "      <td>50.891581</td>\n",
              "      <td>0.816604</td>\n",
              "      <td>0.611028</td>\n",
              "    </tr>\n",
              "    <tr>\n",
              "      <th>15</th>\n",
              "      <td>451602</td>\n",
              "      <td>0.166667</td>\n",
              "      <td>36.466187</td>\n",
              "      <td>0.758469</td>\n",
              "      <td>0.576398</td>\n",
              "    </tr>\n",
              "    <tr>\n",
              "      <th>16</th>\n",
              "      <td>359349</td>\n",
              "      <td>0.000000</td>\n",
              "      <td>35.051222</td>\n",
              "      <td>0.699515</td>\n",
              "      <td>0.561204</td>\n",
              "    </tr>\n",
              "    <tr>\n",
              "      <th>17</th>\n",
              "      <td>1115776</td>\n",
              "      <td>0.000000</td>\n",
              "      <td>3.563790</td>\n",
              "      <td>0.378847</td>\n",
              "      <td>0.731525</td>\n",
              "    </tr>\n",
              "    <tr>\n",
              "      <th>18</th>\n",
              "      <td>1112341</td>\n",
              "      <td>0.500000</td>\n",
              "      <td>80.571708</td>\n",
              "      <td>0.776472</td>\n",
              "      <td>0.491160</td>\n",
              "    </tr>\n",
              "    <tr>\n",
              "      <th>19</th>\n",
              "      <td>131843</td>\n",
              "      <td>1.000000</td>\n",
              "      <td>6.978497</td>\n",
              "      <td>0.652600</td>\n",
              "      <td>0.561902</td>\n",
              "    </tr>\n",
              "    <tr>\n",
              "      <th>20</th>\n",
              "      <td>104861</td>\n",
              "      <td>1.000000</td>\n",
              "      <td>21.898915</td>\n",
              "      <td>0.789465</td>\n",
              "      <td>0.771705</td>\n",
              "    </tr>\n",
              "    <tr>\n",
              "      <th>21</th>\n",
              "      <td>833860</td>\n",
              "      <td>0.000000</td>\n",
              "      <td>32.368450</td>\n",
              "      <td>0.679608</td>\n",
              "      <td>0.552192</td>\n",
              "    </tr>\n",
              "    <tr>\n",
              "      <th>22</th>\n",
              "      <td>207786</td>\n",
              "      <td>0.333333</td>\n",
              "      <td>28.929556</td>\n",
              "      <td>0.731760</td>\n",
              "      <td>0.648421</td>\n",
              "    </tr>\n",
              "    <tr>\n",
              "      <th>23</th>\n",
              "      <td>1132213</td>\n",
              "      <td>0.200000</td>\n",
              "      <td>6.273388</td>\n",
              "      <td>0.552968</td>\n",
              "      <td>0.796498</td>\n",
              "    </tr>\n",
              "    <tr>\n",
              "      <th>24</th>\n",
              "      <td>1114819</td>\n",
              "      <td>0.500000</td>\n",
              "      <td>111.936622</td>\n",
              "      <td>0.848162</td>\n",
              "      <td>0.570110</td>\n",
              "    </tr>\n",
              "    <tr>\n",
              "      <th>25</th>\n",
              "      <td>183378</td>\n",
              "      <td>0.333333</td>\n",
              "      <td>106.484969</td>\n",
              "      <td>0.802057</td>\n",
              "      <td>0.516205</td>\n",
              "    </tr>\n",
              "    <tr>\n",
              "      <th>26</th>\n",
              "      <td>1106007</td>\n",
              "      <td>0.166667</td>\n",
              "      <td>40.626687</td>\n",
              "      <td>0.792354</td>\n",
              "      <td>0.510219</td>\n",
              "    </tr>\n",
              "    <tr>\n",
              "      <th>27</th>\n",
              "      <td>1124210</td>\n",
              "      <td>0.000000</td>\n",
              "      <td>40.820986</td>\n",
              "      <td>0.732067</td>\n",
              "      <td>0.401061</td>\n",
              "    </tr>\n",
              "    <tr>\n",
              "      <th>28</th>\n",
              "      <td>287683</td>\n",
              "      <td>0.000000</td>\n",
              "      <td>1.470300</td>\n",
              "      <td>0.308766</td>\n",
              "      <td>0.875887</td>\n",
              "    </tr>\n",
              "    <tr>\n",
              "      <th>29</th>\n",
              "      <td>490595</td>\n",
              "      <td>0.000000</td>\n",
              "      <td>15.296609</td>\n",
              "      <td>0.612391</td>\n",
              "      <td>0.595367</td>\n",
              "    </tr>\n",
              "    <tr>\n",
              "      <th>30</th>\n",
              "      <td>1103812</td>\n",
              "      <td>0.000000</td>\n",
              "      <td>7.848823</td>\n",
              "      <td>0.489191</td>\n",
              "      <td>0.583697</td>\n",
              "    </tr>\n",
              "    <tr>\n",
              "      <th>31</th>\n",
              "      <td>87181</td>\n",
              "      <td>0.250000</td>\n",
              "      <td>30.125581</td>\n",
              "      <td>0.708003</td>\n",
              "      <td>0.573965</td>\n",
              "    </tr>\n",
              "    <tr>\n",
              "      <th>32</th>\n",
              "      <td>443396</td>\n",
              "      <td>0.000000</td>\n",
              "      <td>38.637744</td>\n",
              "      <td>0.738504</td>\n",
              "      <td>0.644920</td>\n",
              "    </tr>\n",
              "    <tr>\n",
              "      <th>33</th>\n",
              "      <td>87452</td>\n",
              "      <td>0.142857</td>\n",
              "      <td>38.446335</td>\n",
              "      <td>0.716453</td>\n",
              "      <td>0.558402</td>\n",
              "    </tr>\n",
              "    <tr>\n",
              "      <th>34</th>\n",
              "      <td>855410</td>\n",
              "      <td>0.000000</td>\n",
              "      <td>1.389140</td>\n",
              "      <td>0.223683</td>\n",
              "      <td>0.663265</td>\n",
              "    </tr>\n",
              "    <tr>\n",
              "      <th>35</th>\n",
              "      <td>1114646</td>\n",
              "      <td>0.000000</td>\n",
              "      <td>11.705312</td>\n",
              "      <td>0.675503</td>\n",
              "      <td>0.550350</td>\n",
              "    </tr>\n",
              "    <tr>\n",
              "      <th>36</th>\n",
              "      <td>19335</td>\n",
              "      <td>0.500000</td>\n",
              "      <td>14.095171</td>\n",
              "      <td>0.656729</td>\n",
              "      <td>0.523351</td>\n",
              "    </tr>\n",
              "    <tr>\n",
              "      <th>37</th>\n",
              "      <td>47923</td>\n",
              "      <td>0.333333</td>\n",
              "      <td>108.352026</td>\n",
              "      <td>0.811238</td>\n",
              "      <td>0.504014</td>\n",
              "    </tr>\n",
              "    <tr>\n",
              "      <th>38</th>\n",
              "      <td>405717</td>\n",
              "      <td>0.000000</td>\n",
              "      <td>6.779002</td>\n",
              "      <td>0.619011</td>\n",
              "      <td>0.718184</td>\n",
              "    </tr>\n",
              "    <tr>\n",
              "      <th>39</th>\n",
              "      <td>182539</td>\n",
              "      <td>0.166667</td>\n",
              "      <td>6.914697</td>\n",
              "      <td>0.546308</td>\n",
              "      <td>0.511340</td>\n",
              "    </tr>\n",
              "    <tr>\n",
              "      <th>40</th>\n",
              "      <td>1113437</td>\n",
              "      <td>0.000000</td>\n",
              "      <td>18.886840</td>\n",
              "      <td>0.570693</td>\n",
              "      <td>0.455552</td>\n",
              "    </tr>\n",
              "    <tr>\n",
              "      <th>41</th>\n",
              "      <td>1129237</td>\n",
              "      <td>0.000000</td>\n",
              "      <td>9.237446</td>\n",
              "      <td>0.507315</td>\n",
              "      <td>0.541281</td>\n",
              "    </tr>\n",
              "    <tr>\n",
              "      <th>42</th>\n",
              "      <td>146187</td>\n",
              "      <td>0.250000</td>\n",
              "      <td>7.946028</td>\n",
              "      <td>0.589155</td>\n",
              "      <td>0.607350</td>\n",
              "    </tr>\n",
              "  </tbody>\n",
              "</table>\n",
              "</div>\n",
              "      <button class=\"colab-df-convert\" onclick=\"convertToInteractive('df-e6a26bd1-6218-4da1-be5f-7a22a00b28bb')\"\n",
              "              title=\"Convert this dataframe to an interactive table.\"\n",
              "              style=\"display:none;\">\n",
              "        \n",
              "  <svg xmlns=\"http://www.w3.org/2000/svg\" height=\"24px\"viewBox=\"0 0 24 24\"\n",
              "       width=\"24px\">\n",
              "    <path d=\"M0 0h24v24H0V0z\" fill=\"none\"/>\n",
              "    <path d=\"M18.56 5.44l.94 2.06.94-2.06 2.06-.94-2.06-.94-.94-2.06-.94 2.06-2.06.94zm-11 1L8.5 8.5l.94-2.06 2.06-.94-2.06-.94L8.5 2.5l-.94 2.06-2.06.94zm10 10l.94 2.06.94-2.06 2.06-.94-2.06-.94-.94-2.06-.94 2.06-2.06.94z\"/><path d=\"M17.41 7.96l-1.37-1.37c-.4-.4-.92-.59-1.43-.59-.52 0-1.04.2-1.43.59L10.3 9.45l-7.72 7.72c-.78.78-.78 2.05 0 2.83L4 21.41c.39.39.9.59 1.41.59.51 0 1.02-.2 1.41-.59l7.78-7.78 2.81-2.81c.8-.78.8-2.07 0-2.86zM5.41 20L4 18.59l7.72-7.72 1.47 1.35L5.41 20z\"/>\n",
              "  </svg>\n",
              "      </button>\n",
              "      \n",
              "  <style>\n",
              "    .colab-df-container {\n",
              "      display:flex;\n",
              "      flex-wrap:wrap;\n",
              "      gap: 12px;\n",
              "    }\n",
              "\n",
              "    .colab-df-convert {\n",
              "      background-color: #E8F0FE;\n",
              "      border: none;\n",
              "      border-radius: 50%;\n",
              "      cursor: pointer;\n",
              "      display: none;\n",
              "      fill: #1967D2;\n",
              "      height: 32px;\n",
              "      padding: 0 0 0 0;\n",
              "      width: 32px;\n",
              "    }\n",
              "\n",
              "    .colab-df-convert:hover {\n",
              "      background-color: #E2EBFA;\n",
              "      box-shadow: 0px 1px 2px rgba(60, 64, 67, 0.3), 0px 1px 3px 1px rgba(60, 64, 67, 0.15);\n",
              "      fill: #174EA6;\n",
              "    }\n",
              "\n",
              "    [theme=dark] .colab-df-convert {\n",
              "      background-color: #3B4455;\n",
              "      fill: #D2E3FC;\n",
              "    }\n",
              "\n",
              "    [theme=dark] .colab-df-convert:hover {\n",
              "      background-color: #434B5C;\n",
              "      box-shadow: 0px 1px 3px 1px rgba(0, 0, 0, 0.15);\n",
              "      filter: drop-shadow(0px 1px 2px rgba(0, 0, 0, 0.3));\n",
              "      fill: #FFFFFF;\n",
              "    }\n",
              "  </style>\n",
              "\n",
              "      <script>\n",
              "        const buttonEl =\n",
              "          document.querySelector('#df-e6a26bd1-6218-4da1-be5f-7a22a00b28bb button.colab-df-convert');\n",
              "        buttonEl.style.display =\n",
              "          google.colab.kernel.accessAllowed ? 'block' : 'none';\n",
              "\n",
              "        async function convertToInteractive(key) {\n",
              "          const element = document.querySelector('#df-e6a26bd1-6218-4da1-be5f-7a22a00b28bb');\n",
              "          const dataTable =\n",
              "            await google.colab.kernel.invokeFunction('convertToInteractive',\n",
              "                                                     [key], {});\n",
              "          if (!dataTable) return;\n",
              "\n",
              "          const docLinkHtml = 'Like what you see? Visit the ' +\n",
              "            '<a target=\"_blank\" href=https://colab.research.google.com/notebooks/data_table.ipynb>data table notebook</a>'\n",
              "            + ' to learn more about interactive tables.';\n",
              "          element.innerHTML = '';\n",
              "          dataTable['output_type'] = 'display_data';\n",
              "          await google.colab.output.renderOutput(dataTable, element);\n",
              "          const docLink = document.createElement('div');\n",
              "          docLink.innerHTML = docLinkHtml;\n",
              "          element.appendChild(docLink);\n",
              "        }\n",
              "      </script>\n",
              "    </div>\n",
              "  </div>\n",
              "  "
            ]
          },
          "metadata": {},
          "execution_count": 11
        }
      ],
      "source": [
        "def get_model_metrics_per_query_at_k(\n",
        "        model_predictions, \n",
        "        gold_standard, \n",
        "        k=10,\n",
        "        relevance_threshold=2\n",
        "    ):\n",
        "    \"\"\"\n",
        "    Calculate Mean Reciprocal Rank at k, DCG, nDCG and pairwise accuracy for \n",
        "    all queryids in dict model_predictions.\n",
        "\n",
        "    Args:\n",
        "        model_predictions (dict): Dict of queryids and their lists of \n",
        "            documents retrieved by the model. Each key should by the queryid \n",
        "            in string format, and its value should be a list of tuples \n",
        "            (docid, score). Lists don't need to be ordered.\n",
        "        k (int): cutpoint of the results, where Reciprocal Rank should be \n",
        "            evaluated. Defaults to 10.\n",
        "        relevance_threshold (int): Miminum rating considered relevant for \n",
        "            Mean Reciprocal Rank. Defaults to 2.\n",
        "    \n",
        "    Returns:\n",
        "        list[dict]: List of records (queryid, MRR at k, DCG, nDCG, \n",
        "            pairwise accuracy) for all queryids in model_predictions.\n",
        "    \"\"\"\n",
        "    query_metrics = []\n",
        "    for queryid in model_predictions.keys():\n",
        "        rr, dcg, ndcg, pairwise_acc = get_query_dcg_rr_at_k(\n",
        "            queryid, \n",
        "            model_predictions, \n",
        "            gold_standard, \n",
        "            k, \n",
        "            relevance_threshold\n",
        "        )\n",
        "        query_metrics.append({\n",
        "            'queryid': queryid,\n",
        "            f'MRR_at_{k}': rr,\n",
        "            'DCG': dcg,\n",
        "            'nDCG': ndcg,\n",
        "            'pairwise_acc': pairwise_acc,\n",
        "        })\n",
        "    \n",
        "    return query_metrics\n",
        "\n",
        "\n",
        "pd.DataFrame(\n",
        "    get_model_metrics_per_query_at_k(\n",
        "        model_tf_idf, \n",
        "        gold_standard,\n",
        "    )\n",
        ")"
      ]
    },
    {
      "cell_type": "markdown",
      "source": [
        "## 3. Evaluate each model"
      ],
      "metadata": {
        "id": "tIWewNUKQYt2"
      }
    },
    {
      "cell_type": "markdown",
      "source": [
        "### Baseline"
      ],
      "metadata": {
        "id": "2dVaRB1q1nf4"
      }
    },
    {
      "cell_type": "code",
      "source": [
        "metrics_model_cosine_similarity = pd.DataFrame(\n",
        "    get_model_metrics_per_query_at_k(\n",
        "        model_cosine_similarity, \n",
        "        gold_standard,\n",
        "    )\n",
        ")\n",
        "\n",
        "metrics_model_cosine_similarity.drop(columns=['queryid']).mean()"
      ],
      "metadata": {
        "colab": {
          "base_uri": "https://localhost:8080/"
        },
        "id": "6BzHEGdTkmYd",
        "outputId": "3b321aff-c319-45ce-a58c-c68757edeefa"
      },
      "execution_count": 14,
      "outputs": [
        {
          "output_type": "execute_result",
          "data": {
            "text/plain": [
              "MRR_at_10        0.253387\n",
              "DCG             31.337178\n",
              "nDCG             0.649092\n",
              "pairwise_acc     0.581657\n",
              "dtype: float64"
            ]
          },
          "metadata": {},
          "execution_count": 14
        }
      ]
    },
    {
      "cell_type": "markdown",
      "source": [
        "### Pointwise"
      ],
      "metadata": {
        "id": "p0P_Djsv1BdL"
      }
    },
    {
      "cell_type": "code",
      "execution_count": 12,
      "metadata": {
        "colab": {
          "base_uri": "https://localhost:8080/"
        },
        "id": "j5fHt0ok2y45",
        "outputId": "32d35e8b-47b5-4b10-c4ca-5d24018e5578"
      },
      "outputs": [
        {
          "output_type": "execute_result",
          "data": {
            "text/plain": [
              "MRR_at_10        0.249474\n",
              "DCG             31.800888\n",
              "nDCG             0.667206\n",
              "pairwise_acc     0.592718\n",
              "dtype: float64"
            ]
          },
          "metadata": {},
          "execution_count": 12
        }
      ],
      "source": [
        "metrics_model_tf_idf = pd.DataFrame(\n",
        "    get_model_metrics_per_query_at_k(\n",
        "        model_tf_idf, \n",
        "        gold_standard,\n",
        "    )\n",
        ")\n",
        "\n",
        "metrics_model_tf_idf.drop(columns=['queryid']).mean()"
      ]
    },
    {
      "cell_type": "code",
      "source": [
        "metrics_model_tf_idf_scoring = pd.DataFrame(\n",
        "    get_model_metrics_per_query_at_k(\n",
        "        model_tf_idf_scoring, \n",
        "        gold_standard,\n",
        "    )\n",
        ")\n",
        "\n",
        "metrics_model_tf_idf_scoring.drop(columns=['queryid']).mean()"
      ],
      "metadata": {
        "colab": {
          "base_uri": "https://localhost:8080/"
        },
        "id": "4ZjUuelMOyZp",
        "outputId": "30e08603-2c7f-40ab-ad51-4f746ac25ae2"
      },
      "execution_count": 13,
      "outputs": [
        {
          "output_type": "execute_result",
          "data": {
            "text/plain": [
              "MRR_at_10        0.254217\n",
              "DCG             31.722231\n",
              "nDCG             0.655401\n",
              "pairwise_acc     0.587863\n",
              "dtype: float64"
            ]
          },
          "metadata": {},
          "execution_count": 13
        }
      ]
    },
    {
      "cell_type": "code",
      "source": [
        "metrics_model_bart_tokenized = pd.DataFrame(\n",
        "    get_model_metrics_per_query_at_k(\n",
        "        model_bart_tokenized, \n",
        "        gold_standard,\n",
        "    )\n",
        ")\n",
        "\n",
        "metrics_model_bart_tokenized.drop(columns=['queryid']).mean()"
      ],
      "metadata": {
        "colab": {
          "base_uri": "https://localhost:8080/"
        },
        "id": "YIZYQ8vDlOcm",
        "outputId": "af62a484-1493-429c-bfa9-9ad833407f4a"
      },
      "execution_count": 15,
      "outputs": [
        {
          "output_type": "execute_result",
          "data": {
            "text/plain": [
              "MRR_at_10        0.204202\n",
              "DCG             33.681145\n",
              "nDCG             0.650810\n",
              "pairwise_acc     0.549932\n",
              "dtype: float64"
            ]
          },
          "metadata": {},
          "execution_count": 15
        }
      ]
    },
    {
      "cell_type": "code",
      "source": [
        "metrics_model_bart_tokenized_scoring = pd.DataFrame(\n",
        "    get_model_metrics_per_query_at_k(\n",
        "        model_bart_tokenized_scoring, \n",
        "        gold_standard,\n",
        "    )\n",
        ")\n",
        "\n",
        "metrics_model_bart_tokenized_scoring.drop(columns=['queryid']).mean()"
      ],
      "metadata": {
        "colab": {
          "base_uri": "https://localhost:8080/"
        },
        "id": "kneJyP3ueKCP",
        "outputId": "bd5f78bc-7d55-479d-dff1-c4838c1bd81e"
      },
      "execution_count": 16,
      "outputs": [
        {
          "output_type": "execute_result",
          "data": {
            "text/plain": [
              "MRR_at_10        0.223942\n",
              "DCG             36.038576\n",
              "nDCG             0.664488\n",
              "pairwise_acc     0.574078\n",
              "dtype: float64"
            ]
          },
          "metadata": {},
          "execution_count": 16
        }
      ]
    },
    {
      "cell_type": "code",
      "source": [
        "metrics_model_bart_tokenized_word = pd.DataFrame(\n",
        "    get_model_metrics_per_query_at_k(\n",
        "        model_bart_tokenized_word, \n",
        "        gold_standard,\n",
        "    )\n",
        ")\n",
        "\n",
        "metrics_model_bart_tokenized_word.drop(columns=['queryid']).mean()"
      ],
      "metadata": {
        "colab": {
          "base_uri": "https://localhost:8080/"
        },
        "id": "j77RtAeLlPeK",
        "outputId": "a093a0d4-6ca1-4f80-bba5-558ab258e132"
      },
      "execution_count": 17,
      "outputs": [
        {
          "output_type": "execute_result",
          "data": {
            "text/plain": [
              "MRR_at_10        0.191528\n",
              "DCG             31.208557\n",
              "nDCG             0.633229\n",
              "pairwise_acc     0.556830\n",
              "dtype: float64"
            ]
          },
          "metadata": {},
          "execution_count": 17
        }
      ]
    },
    {
      "cell_type": "code",
      "source": [
        "metrics_model_bart_tokenized_word_scoring = pd.DataFrame(\n",
        "    get_model_metrics_per_query_at_k(\n",
        "        model_bart_tokenized_word_scoring, \n",
        "        gold_standard,\n",
        "    )\n",
        ")\n",
        "\n",
        "metrics_model_bart_tokenized_word_scoring.drop(columns=['queryid']).mean()"
      ],
      "metadata": {
        "colab": {
          "base_uri": "https://localhost:8080/"
        },
        "id": "BXLfUxvXlNTZ",
        "outputId": "a62ae8ba-6eed-4a14-86b9-58c1bc7f683c"
      },
      "execution_count": 18,
      "outputs": [
        {
          "output_type": "execute_result",
          "data": {
            "text/plain": [
              "MRR_at_10        0.277805\n",
              "DCG             31.333809\n",
              "nDCG             0.643832\n",
              "pairwise_acc     0.567777\n",
              "dtype: float64"
            ]
          },
          "metadata": {},
          "execution_count": 18
        }
      ]
    },
    {
      "cell_type": "code",
      "source": [
        "metrics_model_non_cont_word_emb = pd.DataFrame(\n",
        "    get_model_metrics_per_query_at_k(\n",
        "        model_non_cont_word_emb, \n",
        "        gold_standard,\n",
        "    )\n",
        ")\n",
        "\n",
        "metrics_model_non_cont_word_emb.drop(columns=['queryid']).mean()"
      ],
      "metadata": {
        "colab": {
          "base_uri": "https://localhost:8080/"
        },
        "id": "uP81KmQvlQT0",
        "outputId": "0f6902c4-ac07-47d7-f86e-3de92093261e"
      },
      "execution_count": 19,
      "outputs": [
        {
          "output_type": "execute_result",
          "data": {
            "text/plain": [
              "MRR_at_10        0.380159\n",
              "DCG             32.664117\n",
              "nDCG             0.676987\n",
              "pairwise_acc     0.607968\n",
              "dtype: float64"
            ]
          },
          "metadata": {},
          "execution_count": 19
        }
      ]
    },
    {
      "cell_type": "code",
      "source": [
        "metrics_model_non_cont_word_emb_scoring = pd.DataFrame(\n",
        "    get_model_metrics_per_query_at_k(\n",
        "        model_non_cont_word_emb_scoring, \n",
        "        gold_standard,\n",
        "    )\n",
        ")\n",
        "\n",
        "metrics_model_non_cont_word_emb_scoring.drop(columns=['queryid']).mean()"
      ],
      "metadata": {
        "colab": {
          "base_uri": "https://localhost:8080/"
        },
        "id": "r4O0W1YtNuK8",
        "outputId": "d1d77671-103d-4307-b087-1f558506af65"
      },
      "execution_count": 20,
      "outputs": [
        {
          "output_type": "execute_result",
          "data": {
            "text/plain": [
              "MRR_at_10        0.300701\n",
              "DCG             32.126986\n",
              "nDCG             0.663315\n",
              "pairwise_acc     0.594484\n",
              "dtype: float64"
            ]
          },
          "metadata": {},
          "execution_count": 20
        }
      ]
    },
    {
      "cell_type": "markdown",
      "source": [
        "### Pairwise"
      ],
      "metadata": {
        "id": "XIy4qQ4Z012M"
      }
    },
    {
      "cell_type": "code",
      "source": [
        "metrics_model_tf_idf_pairwise = pd.DataFrame(\n",
        "    get_model_metrics_per_query_at_k(\n",
        "        model_tf_idf_pairwise, \n",
        "        gold_standard,\n",
        "    )\n",
        ")\n",
        "\n",
        "metrics_model_tf_idf_pairwise.drop(columns=['queryid']).mean()"
      ],
      "metadata": {
        "colab": {
          "base_uri": "https://localhost:8080/"
        },
        "id": "WlLrS2r201mX",
        "outputId": "805b5be9-dcc0-4b80-8e80-2f261f1d6a54"
      },
      "execution_count": 23,
      "outputs": [
        {
          "output_type": "execute_result",
          "data": {
            "text/plain": [
              "MRR_at_10        0.250148\n",
              "DCG             31.706860\n",
              "nDCG             0.666408\n",
              "pairwise_acc     0.583277\n",
              "dtype: float64"
            ]
          },
          "metadata": {},
          "execution_count": 23
        }
      ]
    },
    {
      "cell_type": "code",
      "source": [
        "metrics_model_bart_tokenized_pairwise = pd.DataFrame(\n",
        "    get_model_metrics_per_query_at_k(\n",
        "        model_bart_tokenized_pairwise, \n",
        "        gold_standard,\n",
        "    )\n",
        ")\n",
        "\n",
        "metrics_model_bart_tokenized_pairwise.drop(columns=['queryid']).mean()"
      ],
      "metadata": {
        "colab": {
          "base_uri": "https://localhost:8080/"
        },
        "id": "s_OcPVGl05pR",
        "outputId": "5af426de-c913-46ae-e201-5f9d5a396443"
      },
      "execution_count": 24,
      "outputs": [
        {
          "output_type": "execute_result",
          "data": {
            "text/plain": [
              "MRR_at_10        0.198440\n",
              "DCG             31.146306\n",
              "nDCG             0.646021\n",
              "pairwise_acc     0.555442\n",
              "dtype: float64"
            ]
          },
          "metadata": {},
          "execution_count": 24
        }
      ]
    },
    {
      "cell_type": "code",
      "source": [
        "metrics_model_non_cont_word_emb_pairwise = pd.DataFrame(\n",
        "    get_model_metrics_per_query_at_k(\n",
        "        model_non_cont_word_emb_pairwise, \n",
        "        gold_standard,\n",
        "    )\n",
        ")\n",
        "\n",
        "metrics_model_non_cont_word_emb_pairwise.drop(columns=['queryid']).mean()"
      ],
      "metadata": {
        "colab": {
          "base_uri": "https://localhost:8080/"
        },
        "id": "E7nuEt3D06cm",
        "outputId": "df76d95d-2878-4800-e742-2078c7fec178"
      },
      "execution_count": 25,
      "outputs": [
        {
          "output_type": "execute_result",
          "data": {
            "text/plain": [
              "MRR_at_10        0.318217\n",
              "DCG             32.100947\n",
              "nDCG             0.665090\n",
              "pairwise_acc     0.587289\n",
              "dtype: float64"
            ]
          },
          "metadata": {},
          "execution_count": 25
        }
      ]
    },
    {
      "cell_type": "markdown",
      "source": [
        "## 4. Compare all models"
      ],
      "metadata": {
        "id": "3O2FFzMbQd0a"
      }
    },
    {
      "cell_type": "code",
      "source": [
        "pd.concat(\n",
        "    [\n",
        "        # Baseline\n",
        "        metrics_model_cosine_similarity.drop(columns=['queryid']).mean(),\n",
        "        # Pointwise\n",
        "        metrics_model_tf_idf.drop(columns=['queryid']).mean(),\n",
        "        metrics_model_tf_idf_scoring.drop(columns=['queryid']).mean(),\n",
        "        metrics_model_bart_tokenized.drop(columns=['queryid']).mean(),\n",
        "        metrics_model_bart_tokenized_scoring.drop(columns=['queryid']).mean(),\n",
        "        metrics_model_bart_tokenized_word.drop(columns=['queryid']).mean(),\n",
        "        metrics_model_bart_tokenized_word_scoring.drop(columns=['queryid']).mean(),\n",
        "        metrics_model_non_cont_word_emb.drop(columns=['queryid']).mean(),\n",
        "        metrics_model_non_cont_word_emb_scoring.drop(columns=['queryid']).mean(),\n",
        "        # Pairwise\n",
        "        metrics_model_tf_idf_pairwise.drop(columns=['queryid']).mean(),\n",
        "        metrics_model_bart_tokenized_pairwise.drop(columns=['queryid']).mean(),\n",
        "        metrics_model_non_cont_word_emb_pairwise.drop(columns=['queryid']).mean(),\n",
        "        \n",
        "    ], \n",
        "    axis=1,\n",
        "    names=['a', 'b', 'c', 'd', 'e', 'f']\n",
        ").T.rename(index={\n",
        "    0: 'cosine_similarity',\n",
        "    1: 'tf_idf',\n",
        "    2: 'tf_idf_scoring',\n",
        "    3: 'bart_tokenized',\n",
        "    4: 'bart_tokenized_scoring',\n",
        "    5: 'bart_tokenized_word',\n",
        "    6: 'bart_tokenized_word_scoring',\n",
        "    7: 'non_cont_word_emb',\n",
        "    8: 'non_cont_word_emb_scoring',\n",
        "    9: 'tf_idf_pairwise',\n",
        "    10: 'bart_tokenized_pairwise',\n",
        "    11: 'non_cont_word_emb_pairwise',\n",
        "}).sort_values(by='nDCG', ascending=False)"
      ],
      "metadata": {
        "colab": {
          "base_uri": "https://localhost:8080/",
          "height": 426
        },
        "id": "8WDnJkRsnhGM",
        "outputId": "9f2dea20-b590-4b1d-9fdd-5557f2fc8585"
      },
      "execution_count": 26,
      "outputs": [
        {
          "output_type": "execute_result",
          "data": {
            "text/plain": [
              "                             MRR_at_10        DCG      nDCG  pairwise_acc\n",
              "non_cont_word_emb             0.380159  32.664117  0.676987      0.607968\n",
              "tf_idf                        0.249474  31.800888  0.667206      0.592718\n",
              "tf_idf_pairwise               0.250148  31.706860  0.666408      0.583277\n",
              "non_cont_word_emb_pairwise    0.318217  32.100947  0.665090      0.587289\n",
              "bart_tokenized_scoring        0.223942  36.038576  0.664488      0.574078\n",
              "non_cont_word_emb_scoring     0.300701  32.126986  0.663315      0.594484\n",
              "tf_idf_scoring                0.254217  31.722231  0.655401      0.587863\n",
              "bart_tokenized                0.204202  33.681145  0.650810      0.549932\n",
              "cosine_similarity             0.253387  31.337178  0.649092      0.581657\n",
              "bart_tokenized_pairwise       0.198440  31.146306  0.646021      0.555442\n",
              "bart_tokenized_word_scoring   0.277805  31.333809  0.643832      0.567777\n",
              "bart_tokenized_word           0.191528  31.208557  0.633229      0.556830"
            ],
            "text/html": [
              "\n",
              "  <div id=\"df-27950560-1cfa-4bb9-bbfa-35b0c85a2f91\">\n",
              "    <div class=\"colab-df-container\">\n",
              "      <div>\n",
              "<style scoped>\n",
              "    .dataframe tbody tr th:only-of-type {\n",
              "        vertical-align: middle;\n",
              "    }\n",
              "\n",
              "    .dataframe tbody tr th {\n",
              "        vertical-align: top;\n",
              "    }\n",
              "\n",
              "    .dataframe thead th {\n",
              "        text-align: right;\n",
              "    }\n",
              "</style>\n",
              "<table border=\"1\" class=\"dataframe\">\n",
              "  <thead>\n",
              "    <tr style=\"text-align: right;\">\n",
              "      <th></th>\n",
              "      <th>MRR_at_10</th>\n",
              "      <th>DCG</th>\n",
              "      <th>nDCG</th>\n",
              "      <th>pairwise_acc</th>\n",
              "    </tr>\n",
              "  </thead>\n",
              "  <tbody>\n",
              "    <tr>\n",
              "      <th>non_cont_word_emb</th>\n",
              "      <td>0.380159</td>\n",
              "      <td>32.664117</td>\n",
              "      <td>0.676987</td>\n",
              "      <td>0.607968</td>\n",
              "    </tr>\n",
              "    <tr>\n",
              "      <th>tf_idf</th>\n",
              "      <td>0.249474</td>\n",
              "      <td>31.800888</td>\n",
              "      <td>0.667206</td>\n",
              "      <td>0.592718</td>\n",
              "    </tr>\n",
              "    <tr>\n",
              "      <th>tf_idf_pairwise</th>\n",
              "      <td>0.250148</td>\n",
              "      <td>31.706860</td>\n",
              "      <td>0.666408</td>\n",
              "      <td>0.583277</td>\n",
              "    </tr>\n",
              "    <tr>\n",
              "      <th>non_cont_word_emb_pairwise</th>\n",
              "      <td>0.318217</td>\n",
              "      <td>32.100947</td>\n",
              "      <td>0.665090</td>\n",
              "      <td>0.587289</td>\n",
              "    </tr>\n",
              "    <tr>\n",
              "      <th>bart_tokenized_scoring</th>\n",
              "      <td>0.223942</td>\n",
              "      <td>36.038576</td>\n",
              "      <td>0.664488</td>\n",
              "      <td>0.574078</td>\n",
              "    </tr>\n",
              "    <tr>\n",
              "      <th>non_cont_word_emb_scoring</th>\n",
              "      <td>0.300701</td>\n",
              "      <td>32.126986</td>\n",
              "      <td>0.663315</td>\n",
              "      <td>0.594484</td>\n",
              "    </tr>\n",
              "    <tr>\n",
              "      <th>tf_idf_scoring</th>\n",
              "      <td>0.254217</td>\n",
              "      <td>31.722231</td>\n",
              "      <td>0.655401</td>\n",
              "      <td>0.587863</td>\n",
              "    </tr>\n",
              "    <tr>\n",
              "      <th>bart_tokenized</th>\n",
              "      <td>0.204202</td>\n",
              "      <td>33.681145</td>\n",
              "      <td>0.650810</td>\n",
              "      <td>0.549932</td>\n",
              "    </tr>\n",
              "    <tr>\n",
              "      <th>cosine_similarity</th>\n",
              "      <td>0.253387</td>\n",
              "      <td>31.337178</td>\n",
              "      <td>0.649092</td>\n",
              "      <td>0.581657</td>\n",
              "    </tr>\n",
              "    <tr>\n",
              "      <th>bart_tokenized_pairwise</th>\n",
              "      <td>0.198440</td>\n",
              "      <td>31.146306</td>\n",
              "      <td>0.646021</td>\n",
              "      <td>0.555442</td>\n",
              "    </tr>\n",
              "    <tr>\n",
              "      <th>bart_tokenized_word_scoring</th>\n",
              "      <td>0.277805</td>\n",
              "      <td>31.333809</td>\n",
              "      <td>0.643832</td>\n",
              "      <td>0.567777</td>\n",
              "    </tr>\n",
              "    <tr>\n",
              "      <th>bart_tokenized_word</th>\n",
              "      <td>0.191528</td>\n",
              "      <td>31.208557</td>\n",
              "      <td>0.633229</td>\n",
              "      <td>0.556830</td>\n",
              "    </tr>\n",
              "  </tbody>\n",
              "</table>\n",
              "</div>\n",
              "      <button class=\"colab-df-convert\" onclick=\"convertToInteractive('df-27950560-1cfa-4bb9-bbfa-35b0c85a2f91')\"\n",
              "              title=\"Convert this dataframe to an interactive table.\"\n",
              "              style=\"display:none;\">\n",
              "        \n",
              "  <svg xmlns=\"http://www.w3.org/2000/svg\" height=\"24px\"viewBox=\"0 0 24 24\"\n",
              "       width=\"24px\">\n",
              "    <path d=\"M0 0h24v24H0V0z\" fill=\"none\"/>\n",
              "    <path d=\"M18.56 5.44l.94 2.06.94-2.06 2.06-.94-2.06-.94-.94-2.06-.94 2.06-2.06.94zm-11 1L8.5 8.5l.94-2.06 2.06-.94-2.06-.94L8.5 2.5l-.94 2.06-2.06.94zm10 10l.94 2.06.94-2.06 2.06-.94-2.06-.94-.94-2.06-.94 2.06-2.06.94z\"/><path d=\"M17.41 7.96l-1.37-1.37c-.4-.4-.92-.59-1.43-.59-.52 0-1.04.2-1.43.59L10.3 9.45l-7.72 7.72c-.78.78-.78 2.05 0 2.83L4 21.41c.39.39.9.59 1.41.59.51 0 1.02-.2 1.41-.59l7.78-7.78 2.81-2.81c.8-.78.8-2.07 0-2.86zM5.41 20L4 18.59l7.72-7.72 1.47 1.35L5.41 20z\"/>\n",
              "  </svg>\n",
              "      </button>\n",
              "      \n",
              "  <style>\n",
              "    .colab-df-container {\n",
              "      display:flex;\n",
              "      flex-wrap:wrap;\n",
              "      gap: 12px;\n",
              "    }\n",
              "\n",
              "    .colab-df-convert {\n",
              "      background-color: #E8F0FE;\n",
              "      border: none;\n",
              "      border-radius: 50%;\n",
              "      cursor: pointer;\n",
              "      display: none;\n",
              "      fill: #1967D2;\n",
              "      height: 32px;\n",
              "      padding: 0 0 0 0;\n",
              "      width: 32px;\n",
              "    }\n",
              "\n",
              "    .colab-df-convert:hover {\n",
              "      background-color: #E2EBFA;\n",
              "      box-shadow: 0px 1px 2px rgba(60, 64, 67, 0.3), 0px 1px 3px 1px rgba(60, 64, 67, 0.15);\n",
              "      fill: #174EA6;\n",
              "    }\n",
              "\n",
              "    [theme=dark] .colab-df-convert {\n",
              "      background-color: #3B4455;\n",
              "      fill: #D2E3FC;\n",
              "    }\n",
              "\n",
              "    [theme=dark] .colab-df-convert:hover {\n",
              "      background-color: #434B5C;\n",
              "      box-shadow: 0px 1px 3px 1px rgba(0, 0, 0, 0.15);\n",
              "      filter: drop-shadow(0px 1px 2px rgba(0, 0, 0, 0.3));\n",
              "      fill: #FFFFFF;\n",
              "    }\n",
              "  </style>\n",
              "\n",
              "      <script>\n",
              "        const buttonEl =\n",
              "          document.querySelector('#df-27950560-1cfa-4bb9-bbfa-35b0c85a2f91 button.colab-df-convert');\n",
              "        buttonEl.style.display =\n",
              "          google.colab.kernel.accessAllowed ? 'block' : 'none';\n",
              "\n",
              "        async function convertToInteractive(key) {\n",
              "          const element = document.querySelector('#df-27950560-1cfa-4bb9-bbfa-35b0c85a2f91');\n",
              "          const dataTable =\n",
              "            await google.colab.kernel.invokeFunction('convertToInteractive',\n",
              "                                                     [key], {});\n",
              "          if (!dataTable) return;\n",
              "\n",
              "          const docLinkHtml = 'Like what you see? Visit the ' +\n",
              "            '<a target=\"_blank\" href=https://colab.research.google.com/notebooks/data_table.ipynb>data table notebook</a>'\n",
              "            + ' to learn more about interactive tables.';\n",
              "          element.innerHTML = '';\n",
              "          dataTable['output_type'] = 'display_data';\n",
              "          await google.colab.output.renderOutput(dataTable, element);\n",
              "          const docLink = document.createElement('div');\n",
              "          docLink.innerHTML = docLinkHtml;\n",
              "          element.appendChild(docLink);\n",
              "        }\n",
              "      </script>\n",
              "    </div>\n",
              "  </div>\n",
              "  "
            ]
          },
          "metadata": {},
          "execution_count": 26
        }
      ]
    }
  ],
  "metadata": {
    "colab": {
      "name": "evaluate_model.ipynb",
      "provenance": [],
      "include_colab_link": true
    },
    "kernelspec": {
      "display_name": "Python 3",
      "name": "python3"
    },
    "language_info": {
      "name": "python"
    }
  },
  "nbformat": 4,
  "nbformat_minor": 0
}