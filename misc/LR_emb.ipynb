{
 "cells": [
  {
   "cell_type": "code",
   "execution_count": 1,
   "id": "7030a7aa-c059-4493-9d2a-6638febc022c",
   "metadata": {},
   "outputs": [],
   "source": [
    "import time\n",
    "import pickle\n",
    "import seaborn as sns\n",
    "import numpy as np\n",
    "\n",
    "from sklearn import metrics\n",
    "from sklearn.linear_model import LogisticRegression\n",
    "from sklearn.model_selection import GridSearchCV\n",
    "\n",
    "t = time.time()"
   ]
  },
  {
   "cell_type": "code",
   "execution_count": 2,
   "id": "61d88c3f-0602-4fc4-84ac-519cef24ddf6",
   "metadata": {},
   "outputs": [],
   "source": [
    "def read_pickle(filename: str): \n",
    "    '''Read pickle to get the info'''\n",
    "    list_pickle =  pickle.load(open(filename,\"rb\"))\n",
    "    return list_pickle"
   ]
  },
  {
   "cell_type": "code",
   "execution_count": 3,
   "id": "a947a0c8-573e-4a2c-8651-ffc8d8b86c60",
   "metadata": {},
   "outputs": [],
   "source": [
    "train_emb = read_pickle('train_non_cont_word_emb.pickle')\n",
    "test_emb = read_pickle('test_non_cont_word_emb.pickle')"
   ]
  },
  {
   "cell_type": "markdown",
   "id": "6d9a70b2-f012-43d1-bac6-e21fa2c5a215",
   "metadata": {},
   "source": [
    "I found out that some arrays are sometimes missing in the file, here is an example : "
   ]
  },
  {
   "cell_type": "code",
   "execution_count": 4,
   "id": "827681db-fce5-4d59-aaa8-484ab4eecc74",
   "metadata": {},
   "outputs": [
    {
     "data": {
      "text/plain": [
       "('14562',\n",
       " 'D198286',\n",
       " array([-3.99169922e-02, -4.21346016e-02, -6.51041651e-03,  6.29882812e-02,\n",
       "        -1.32486984e-01, -2.06217453e-01, -1.26342773e-02, -2.92317718e-01,\n",
       "         7.02339783e-02,  7.21842423e-02, -1.97265625e-01, -1.31835938e-02,\n",
       "        -5.77799492e-02,  1.66015625e-02, -2.65625000e-01,  1.46484375e-02,\n",
       "         1.26139326e-02,  4.39860038e-02,  5.01302071e-02, -1.31510422e-01,\n",
       "         3.92303467e-02, -5.38736992e-02, -4.19921875e-02,  1.00585938e-01,\n",
       "         2.06054688e-01, -1.55273438e-01,  1.57877598e-02,  6.27746582e-02,\n",
       "        -7.32421875e-02, -3.13313790e-02,  2.99479160e-02,  4.32128906e-02,\n",
       "         2.44140625e-02, -1.21663414e-01, -4.33349609e-02,  7.22249374e-02,\n",
       "         2.88899746e-02, -7.84505233e-02,  1.56290695e-01,  2.29492188e-02,\n",
       "        -3.49934888e-03,  4.71496582e-02,  2.19665527e-01,  4.10156250e-02,\n",
       "        -5.15950508e-02, -1.07421875e-01,  9.22851562e-02, -9.11458302e-03,\n",
       "        -5.62744141e-02,  4.27246094e-03,  7.51953125e-02,  1.00911455e-02,\n",
       "        -2.13704422e-01, -1.03352861e-02,  2.73437500e-02,  1.99707031e-01,\n",
       "         7.52766943e-03, -9.25699901e-03,  1.32486984e-01, -6.78100586e-02,\n",
       "        -1.44856768e-02, -1.72526035e-02, -2.53906250e-01, -7.84505233e-02,\n",
       "         7.19401017e-02, -5.12784310e-02, -7.16145849e-03,  1.01725258e-01,\n",
       "         8.19689408e-02,  2.57161465e-02, -5.46671562e-02, -2.38769531e-01,\n",
       "         2.07682297e-01, -9.83072892e-02,  2.60823574e-02, -2.17285156e-02,\n",
       "         3.18145752e-02,  5.33040352e-02,  4.63053398e-02,  4.81770821e-02,\n",
       "         1.69759110e-01, -2.78472900e-02, -2.05729172e-01,  3.72721367e-02,\n",
       "         1.72037765e-01,  4.79329415e-02, -2.13216141e-01,  8.30078125e-02,\n",
       "         6.21337891e-02,  1.66829433e-02,  1.16210938e-01, -1.00097656e-02,\n",
       "         4.66461182e-02, -9.44010448e-03, -1.55924484e-01, -4.57356758e-02,\n",
       "        -1.68782547e-01,  1.61336269e-02,  2.45768223e-02, -1.26014709e-01,\n",
       "         3.23893242e-02, -2.39908859e-01, -1.08947754e-01, -4.68343087e-02,\n",
       "         2.24528000e-01, -1.15234375e-01, -1.56005859e-01,  8.95690918e-03,\n",
       "        -9.24479142e-02, -2.90934253e-03, -2.05891933e-02, -2.65950531e-01,\n",
       "        -4.81770821e-02,  2.27864576e-03,  1.10677080e-02,  1.01236977e-01,\n",
       "         1.17268883e-01, -6.77083358e-02,  9.47265625e-02,  1.73339844e-01,\n",
       "         1.38346359e-01,  7.69137964e-02,  4.60205078e-02,  1.51367188e-01,\n",
       "         2.03450513e-03,  1.37532547e-01,  1.05794275e-03, -6.43819198e-02,\n",
       "        -6.15641288e-02,  1.16210938e-01,  1.13118486e-02,  6.72607422e-02,\n",
       "        -2.76692715e-02, -8.10546875e-02,  8.95996094e-02,  4.58984375e-02,\n",
       "         1.23291016e-02,  1.00992836e-01, -1.29882812e-01,  1.90511063e-01,\n",
       "         1.01521812e-01, -4.17480469e-02,  2.50651035e-02,  1.20768227e-01,\n",
       "         1.04980469e-01,  7.19401017e-02,  2.92968750e-03,  2.52278652e-02,\n",
       "        -7.79622421e-02, -4.40673828e-02, -1.44856766e-01, -8.64257812e-02,\n",
       "         4.98453788e-02,  9.19596329e-02, -2.10774735e-01,  6.26220703e-02,\n",
       "        -1.88964844e-01, -1.69270828e-01, -1.50817871e-01,  4.58984375e-02,\n",
       "        -5.44230156e-02, -3.00292969e-02, -6.11979179e-02, -1.14908852e-01,\n",
       "        -1.00494385e-01,  1.44694015e-01, -1.07238770e-01, -7.38932267e-02,\n",
       "        -1.89069118e-02, -7.22249374e-02, -1.50878906e-01,  9.81445312e-02,\n",
       "        -6.31510392e-02,  8.13802108e-02, -4.18701172e-02, -1.45100906e-01,\n",
       "         1.17268883e-01, -2.29817703e-01, -1.24646507e-01,  2.97851562e-02,\n",
       "        -1.66015625e-01, -7.97119141e-02,  1.18855797e-01, -4.44335938e-02,\n",
       "         1.56901047e-01, -8.65071639e-02,  1.02539062e-01,  1.69921875e-01,\n",
       "         8.19498673e-02,  7.53580704e-02,  8.04646835e-02, -3.22265625e-02,\n",
       "        -8.74023438e-02, -1.84407547e-01, -1.91080734e-01, -5.92447929e-02,\n",
       "         1.25488281e-01, -3.22265625e-02,  3.67838554e-02, -1.36393234e-01,\n",
       "        -1.98567715e-02,  1.62760422e-01, -5.46875000e-02, -5.27343750e-02,\n",
       "        -1.08398438e-01, -1.16373695e-01,  3.14941406e-02, -9.92838573e-03,\n",
       "        -3.13924141e-02,  1.38102219e-01, -1.53320312e-01, -9.72493459e-03,\n",
       "        -2.25565597e-01, -4.81007881e-02, -2.19726562e-01, -9.29361954e-02,\n",
       "         1.57552078e-01,  6.64571151e-02, -1.42903641e-01,  1.10026039e-01,\n",
       "        -3.68041992e-02, -3.25520826e-03, -4.08732109e-02,  5.33854179e-02,\n",
       "        -1.57368973e-01,  9.50520858e-02,  1.28580734e-01, -1.94661453e-01,\n",
       "         2.08984375e-01,  1.01603188e-01, -5.12695312e-02,  4.37622070e-02,\n",
       "         1.32649735e-01, -1.52180986e-02, -9.91007462e-02,  1.08571373e-01,\n",
       "        -6.67317733e-02,  3.45662422e-02,  9.14713517e-02,  9.49300155e-02,\n",
       "        -1.05387373e-02,  2.54720058e-02,  9.09830704e-02, -1.86197922e-01,\n",
       "        -3.23893242e-02, -2.31119785e-02, -7.69856796e-02,  2.55045563e-01,\n",
       "        -8.10546875e-02, -1.08479820e-01,  1.75781250e-01,  5.05371094e-02,\n",
       "        -2.06054688e-01,  1.81966141e-01, -2.66927090e-02, -7.67415389e-02,\n",
       "        -1.81152344e-01, -1.19466148e-01, -4.80550118e-02, -1.02457680e-01,\n",
       "        -1.03820801e-01, -5.98958321e-02, -9.13899764e-02,  1.23860680e-01,\n",
       "         5.24291992e-02,  4.26432304e-02, -1.36393234e-01, -2.09838867e-01,\n",
       "        -2.34375000e-02,  2.41699219e-02, -5.24902344e-03,  1.49780273e-01,\n",
       "         2.45768223e-02, -1.07421875e-01, -6.42903671e-02,  7.25504532e-02,\n",
       "        -7.21842423e-02,  1.03678383e-01, -1.40625000e-01,  6.20930977e-02,\n",
       "        -1.26627609e-01, -6.48193359e-02, -2.36002612e-03, -4.28873710e-02,\n",
       "        -1.59342453e-01,  3.07617188e-02, -4.06901054e-05,  1.02355957e-01,\n",
       "        -4.41080742e-02,  1.91731766e-01,  7.83691406e-02,  1.23291016e-02,\n",
       "        -7.49104843e-02, -6.52058944e-02,  1.26790360e-01,  5.94685860e-02,\n",
       "         2.05891933e-02,  9.00065079e-02,  7.65787736e-02, -1.00301109e-01],\n",
       "       dtype=float32),\n",
       " 0.0,\n",
       " array([False]))"
      ]
     },
     "execution_count": 4,
     "metadata": {},
     "output_type": "execute_result"
    }
   ],
   "source": [
    "train_emb[32]"
   ]
  },
  {
   "cell_type": "code",
   "execution_count": 5,
   "id": "ccf7eed2-cb2b-4188-8767-eacf11218431",
   "metadata": {},
   "outputs": [
    {
     "data": {
      "text/plain": [
       "(734026, 32516)"
      ]
     },
     "execution_count": 5,
     "metadata": {},
     "output_type": "execute_result"
    }
   ],
   "source": [
    "(len(train_emb), len(test_emb))"
   ]
  },
  {
   "cell_type": "code",
   "execution_count": 6,
   "id": "e82e5b2b-fb70-470d-a335-f5393ee2fd61",
   "metadata": {},
   "outputs": [
    {
     "data": {
      "text/plain": [
       "(300, 300)"
      ]
     },
     "execution_count": 6,
     "metadata": {},
     "output_type": "execute_result"
    }
   ],
   "source": [
    "(len(train_emb[0][2]), len(test_emb[0][3]))"
   ]
  },
  {
   "cell_type": "code",
   "execution_count": 7,
   "id": "053edc09-cec8-4e2b-b8d4-b0d609d06869",
   "metadata": {},
   "outputs": [],
   "source": [
    "def get_vectors(batch):\n",
    "    '''Input : batch\n",
    "    Output : Arrays of vectors for respectively X and y'''\n",
    "    \n",
    "    # Getting X\n",
    "    X = []\n",
    "    index_errors = []\n",
    "    for i in range(len(batch)):\n",
    "        try:\n",
    "            X.append(np.concatenate((batch[i][2], batch[i][3])))\n",
    "        except:\n",
    "            index_errors.append(i) #Creating a list of indexes where errors occurred\n",
    "            \n",
    "    # Getting Y\n",
    "    list_bool = [list(elem[4]) for elem in batch]\n",
    "    preprocessed_list_bool = []\n",
    "    for i in range(len(list_bool)):\n",
    "        if i not in index_errors: # Removing indexes where errors occurred\n",
    "            if list_bool[i] == [False]:\n",
    "                preprocessed_list_bool.append(0)\n",
    "            else:\n",
    "                preprocessed_list_bool.append(1)\n",
    "    return np.array(X), np.array(preprocessed_list_bool)"
   ]
  },
  {
   "cell_type": "code",
   "execution_count": 8,
   "id": "7d9bbbe2-9b3e-453b-80c6-b1e2de39be56",
   "metadata": {},
   "outputs": [
    {
     "data": {
      "text/plain": [
       "(731894, 600)"
      ]
     },
     "execution_count": 8,
     "metadata": {},
     "output_type": "execute_result"
    }
   ],
   "source": [
    "X_train, y_train = get_vectors(train_emb)\n",
    "X_train.shape"
   ]
  },
  {
   "cell_type": "code",
   "execution_count": 9,
   "id": "c539cb1f-5dce-4d90-92ab-95ad4e29e5e3",
   "metadata": {},
   "outputs": [
    {
     "data": {
      "text/plain": [
       "731894"
      ]
     },
     "execution_count": 9,
     "metadata": {},
     "output_type": "execute_result"
    }
   ],
   "source": [
    "y_train.size"
   ]
  },
  {
   "cell_type": "code",
   "execution_count": 10,
   "id": "dde4a552-c49c-44c2-8ffd-a5b40f987259",
   "metadata": {},
   "outputs": [
    {
     "data": {
      "text/plain": [
       "(32514, 600)"
      ]
     },
     "execution_count": 10,
     "metadata": {},
     "output_type": "execute_result"
    }
   ],
   "source": [
    "X_test, y_test = get_vectors(test_emb)\n",
    "X_test.shape"
   ]
  },
  {
   "cell_type": "code",
   "execution_count": 11,
   "id": "4a4338e3-da29-49ec-bef5-091b39916319",
   "metadata": {},
   "outputs": [
    {
     "data": {
      "text/plain": [
       "32514"
      ]
     },
     "execution_count": 11,
     "metadata": {},
     "output_type": "execute_result"
    }
   ],
   "source": [
    "y_test.size"
   ]
  },
  {
   "cell_type": "code",
   "execution_count": 12,
   "id": "7a6f60fd-aafd-4842-a35d-f4fd4e2b1ab4",
   "metadata": {},
   "outputs": [
    {
     "name": "stdout",
     "output_type": "stream",
     "text": [
      "F1-score: 0.5512208504801098\n"
     ]
    }
   ],
   "source": [
    "logreg = LogisticRegression(penalty='l1', C=1.0, solver='liblinear')\n",
    "logreg.fit(X_train, y_train)\n",
    "y_pred = logreg.predict(X_test)\n",
    "\n",
    "print(\"F1-score:\",metrics.f1_score(y_test, y_pred))"
   ]
  },
  {
   "cell_type": "code",
   "execution_count": 14,
   "id": "c5f85778-7c89-4b64-9cc4-4972e0e0b84e",
   "metadata": {},
   "outputs": [],
   "source": [
    "outfile = open('LR_emb_fit.pickle', 'wb')\n",
    "pickle.dump(logreg, outfile)\n",
    "outfile.close()"
   ]
  },
  {
   "cell_type": "code",
   "execution_count": 13,
   "id": "8ad4f502-036a-4cf5-a4a4-57071abac5eb",
   "metadata": {},
   "outputs": [
    {
     "name": "stdout",
     "output_type": "stream",
     "text": [
      "Execution time : 00:27:14\n"
     ]
    }
   ],
   "source": [
    "print(f\"Execution time : {time.strftime('%H:%M:%S', time.gmtime(time.time()-t))}\")"
   ]
  }
 ],
 "metadata": {
  "kernelspec": {
   "display_name": "Python 3 (ipykernel)",
   "language": "python",
   "name": "python3"
  },
  "language_info": {
   "codemirror_mode": {
    "name": "ipython",
    "version": 3
   },
   "file_extension": ".py",
   "mimetype": "text/x-python",
   "name": "python",
   "nbconvert_exporter": "python",
   "pygments_lexer": "ipython3",
   "version": "3.8.13"
  }
 },
 "nbformat": 4,
 "nbformat_minor": 5
}
